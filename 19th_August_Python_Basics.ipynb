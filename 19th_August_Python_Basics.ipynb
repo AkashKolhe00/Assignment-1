{
 "cells": [
  {
   "cell_type": "code",
   "execution_count": null,
   "id": "afe0d61b-37bd-4b4e-a12d-20dc39bea42a",
   "metadata": {},
   "outputs": [],
   "source": [
    "#Python Basics Variable"
   ]
  },
  {
   "cell_type": "code",
   "execution_count": 17,
   "id": "264856ae-88c8-4d2f-9b1d-463574d8b051",
   "metadata": {},
   "outputs": [],
   "source": [
    "#1.\n"
   ]
  },
  {
   "cell_type": "code",
   "execution_count": 11,
   "id": "605bb0d2-d92d-4a3d-8a5f-b6c2ae24f7e8",
   "metadata": {},
   "outputs": [
    {
     "name": "stdout",
     "output_type": "stream",
     "text": [
      "After swapping:\n",
      "x is 29\n",
      "y is 15\n"
     ]
    }
   ],
   "source": [
    "x = 20\n",
    "y = 30\n",
    "\n",
    "x = x + y     #in this case the value of x is 20+30=50\n",
    "y = x - y     #in this case the value of y is 50-30=20\n",
    "x = x - y     #here the value of x is 50-20=30\n",
    "print(\"After swapping:\") #print the results\n",
    "print(\"x is\", x)\n",
    "print(\"y is\", y)"
   ]
  },
  {
   "cell_type": "code",
   "execution_count": 48,
   "id": "17f375b7-3991-44ea-9a63-b356032d4cf3",
   "metadata": {},
   "outputs": [],
   "source": [
    "#2."
   ]
  },
  {
   "cell_type": "code",
   "execution_count": 13,
   "id": "4b3d5ff6-2279-4b7b-95fc-0bf3c30bf1e4",
   "metadata": {},
   "outputs": [
    {
     "name": "stdin",
     "output_type": "stream",
     "text": [
      "Length of the rectangle: 82\n",
      "Breadth of the rectangle: 96\n"
     ]
    },
    {
     "name": "stdout",
     "output_type": "stream",
     "text": [
      "Area of the rectangle is: 7872\n"
     ]
    }
   ],
   "source": [
    "l=float(input(\"Length of the rectangle:\"))   #l as length of the rectngle as input\n",
    "b=float(input(\"Breadth of the rectangle:\"))  #b as breadth of the rectangle as input\n",
    "Area=l*b                                     #Calculate Area of the rectangle\n",
    "print(\"Area of the rectangle is:\", Area)     #Display the result"
   ]
  },
  {
   "cell_type": "code",
   "execution_count": 9,
   "id": "f5151870-8120-4bc2-a56f-c4f3321dee28",
   "metadata": {},
   "outputs": [],
   "source": [
    "#3"
   ]
  },
  {
   "cell_type": "code",
   "execution_count": 16,
   "id": "77680a10-9af3-4cd1-8ffd-a8eaf45577c7",
   "metadata": {},
   "outputs": [
    {
     "name": "stdin",
     "output_type": "stream",
     "text": [
      "Temperature in degree Celsius: 89\n"
     ]
    },
    {
     "name": "stdout",
     "output_type": "stream",
     "text": [
      "The temperature in degree Fahrenheit is: 192.2\n"
     ]
    }
   ],
   "source": [
    "c=float(input(\"Temperature in degree Celsius:\"))      #c as temperature in Celsius as input\n",
    "f=(c*9/5)+32                                          #calculation of celsius to fahrenheit\n",
    "print(\"The temperature in degree Fahrenheit is:\", f)  #print the result"
   ]
  },
  {
   "cell_type": "code",
   "execution_count": null,
   "id": "ff3900c3-fafa-4f83-a4f1-78bdb9145ff3",
   "metadata": {},
   "outputs": [],
   "source": [
    "#String Based Questions"
   ]
  },
  {
   "cell_type": "code",
   "execution_count": null,
   "id": "cb8531db-a98d-41ad-b48b-0306edb361c4",
   "metadata": {},
   "outputs": [],
   "source": [
    "#1."
   ]
  },
  {
   "cell_type": "code",
   "execution_count": 22,
   "id": "7f349afa-3033-4dcf-897d-f15f3c2d9e73",
   "metadata": {},
   "outputs": [
    {
     "name": "stdin",
     "output_type": "stream",
     "text": [
      "Enter the String: Physics Wallah\n"
     ]
    },
    {
     "name": "stdout",
     "output_type": "stream",
     "text": [
      "Length of the string is: 14\n"
     ]
    }
   ],
   "source": [
    "s=input(\"Enter the String:\")\n",
    "Length=len(s)\n",
    "print(\"Length of the string is:\", Length )"
   ]
  },
  {
   "cell_type": "code",
   "execution_count": 57,
   "id": "1b7886d8-35dc-4557-a711-4cf635b99bf2",
   "metadata": {},
   "outputs": [],
   "source": [
    "#2."
   ]
  },
  {
   "cell_type": "code",
   "execution_count": 56,
   "id": "cb649c84-2eb8-4b3f-84a2-6c56f37c6e92",
   "metadata": {},
   "outputs": [
    {
     "name": "stdin",
     "output_type": "stream",
     "text": [
      "Enter the sentence: How are you doing?\n"
     ]
    },
    {
     "name": "stdout",
     "output_type": "stream",
     "text": [
      "7\n"
     ]
    }
   ],
   "source": [
    "Sentence=input(\"Enter the sentence:\")  #Enter the sentence as input\n",
    "Sentence=Sentence.lower()        #Convert the sentence to lowercase\n",
    "a=Sentence.count(\"a\")            #Count the vowels\n",
    "e=Sentence.count(\"e\")\n",
    "i=Sentence.count(\"i\")\n",
    "o=Sentence.count(\"o\")\n",
    "u=Sentence.count(\"u\")\n",
    "Vowels=sum([a,e,i,o,u])          #add the total number of vowels \n",
    "print(Vowels)                    #display the results"
   ]
  },
  {
   "cell_type": "code",
   "execution_count": 58,
   "id": "a737051b-8234-4784-a8f5-79ebf0fc7df7",
   "metadata": {},
   "outputs": [],
   "source": [
    "#3."
   ]
  },
  {
   "cell_type": "code",
   "execution_count": 63,
   "id": "646217a7-3a28-4a6b-9fa3-e02fd866211c",
   "metadata": {},
   "outputs": [
    {
     "name": "stdin",
     "output_type": "stream",
     "text": [
      "Enter the string to be reversed: How are you\n"
     ]
    },
    {
     "name": "stdout",
     "output_type": "stream",
     "text": [
      "The reversed dtring is: uoy era woH\n"
     ]
    }
   ],
   "source": [
    "String=input(\"Enter the string to be reversed:\")  #Enter the sentence as input\n",
    "RString= String[::-1]                             #reverse the string \n",
    "print(\"The reversed dtring is:\", RString)         # display the result"
   ]
  },
  {
   "cell_type": "code",
   "execution_count": 64,
   "id": "1212df79-e959-4b31-989a-90ca37e25bcc",
   "metadata": {},
   "outputs": [],
   "source": [
    "#4."
   ]
  },
  {
   "cell_type": "code",
   "execution_count": 8,
   "id": "e3cc9cd5-09bf-4fe6-8923-3b4701e47483",
   "metadata": {},
   "outputs": [
    {
     "name": "stdin",
     "output_type": "stream",
     "text": [
      "Enter the sentence to check for Palindrome Rats live on no evil star\n"
     ]
    },
    {
     "name": "stdout",
     "output_type": "stream",
     "text": [
      "Yes it is a Palindrome senttence\n"
     ]
    }
   ],
   "source": [
    "IP= input(\"Enter the sentence to check for Palindrome\") #Enter the sentence as input\n",
    "IP=IP.lower()                                           #Convert the sentence to lowercase\n",
    "IP1=IP[::-1]                                            #reverse the string\n",
    "\n",
    "#Check if the sentence is palindrome and display the results\n",
    "print(\"Yes it is a Palindrome senttence\" if IP==IP1 else \"The sentence is not a Palindrome sentence\")\n"
   ]
  },
  {
   "cell_type": "code",
   "execution_count": 4,
   "id": "cc2a4b14-b978-42d4-81cd-0da4c1e33e74",
   "metadata": {},
   "outputs": [],
   "source": [
    "#5."
   ]
  },
  {
   "cell_type": "code",
   "execution_count": 10,
   "id": "b0874a67-cc72-488a-a178-83af69cf300f",
   "metadata": {},
   "outputs": [
    {
     "name": "stdin",
     "output_type": "stream",
     "text": [
      "Enter the sentence of which the space is to be removed: This sentence has no spaces\n"
     ]
    },
    {
     "name": "stdout",
     "output_type": "stream",
     "text": [
      "Thissentencehasnospaces\n"
     ]
    }
   ],
   "source": [
    "input_string=input(\"Enter the sentence of which the space is to be removed:\") #Enter the sentence as input\n",
    "input_string=input_string.replace(\" \",\"\")                                     #remove the space from the string using replace function\n",
    "print(input_string)                                                           #display the results"
   ]
  },
  {
   "cell_type": "code",
   "execution_count": null,
   "id": "c693a36b-0d4c-4a50-9e10-4548b1235ecc",
   "metadata": {},
   "outputs": [],
   "source": []
  }
 ],
 "metadata": {
  "kernelspec": {
   "display_name": "Python 3 (ipykernel)",
   "language": "python",
   "name": "python3"
  },
  "language_info": {
   "codemirror_mode": {
    "name": "ipython",
    "version": 3
   },
   "file_extension": ".py",
   "mimetype": "text/x-python",
   "name": "python",
   "nbconvert_exporter": "python",
   "pygments_lexer": "ipython3",
   "version": "3.11.4"
  }
 },
 "nbformat": 4,
 "nbformat_minor": 5
}
