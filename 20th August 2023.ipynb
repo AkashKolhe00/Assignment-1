{
 "cells": [
  {
   "cell_type": "markdown",
   "id": "4c3efcdd-9fd3-420e-9cd0-b7fb39c04c1d",
   "metadata": {},
   "source": [
    "Python Basics Variable"
   ]
  },
  {
   "cell_type": "markdown",
   "id": "3deaabb6-5e67-4541-b73b-7c960132de45",
   "metadata": {},
   "source": [
    "1. Write a program to reverse a string.\n"
   ]
  },
  {
   "cell_type": "code",
   "execution_count": 1,
   "id": "605bb0d2-d92d-4a3d-8a5f-b6c2ae24f7e8",
   "metadata": {},
   "outputs": [
    {
     "name": "stdin",
     "output_type": "stream",
     "text": [
      "Enter the string to be revered: Hello\n"
     ]
    },
    {
     "name": "stdout",
     "output_type": "stream",
     "text": [
      "The reversed string is: olleH\n"
     ]
    }
   ],
   "source": [
    "s1=input(\"Enter the string to be revered:\")\n",
    "s1=s1[::-1]\n",
    "print(\"The reversed string is:\", s1)\n",
    "\n"
   ]
  },
  {
   "cell_type": "markdown",
   "id": "9359cc6f-c5b4-4836-858f-a656b386c6cb",
   "metadata": {},
   "source": [
    "2. Check if a string is a palindrome."
   ]
  },
  {
   "cell_type": "code",
   "execution_count": 2,
   "id": "4b3d5ff6-2279-4b7b-95fc-0bf3c30bf1e4",
   "metadata": {},
   "outputs": [
    {
     "name": "stdin",
     "output_type": "stream",
     "text": [
      "Enter the string to check for Palindrome: hello\n"
     ]
    },
    {
     "name": "stdout",
     "output_type": "stream",
     "text": [
      "The string is not Palindrome\n"
     ]
    }
   ],
   "source": [
    "s2=input(\"Enter the string to check for Palindrome:\")\n",
    "s2=s2.lower()\n",
    "s2=s2.replace(\" \", \"\" )\n",
    "Palindrome=s2[::-1]\n",
    "print(\"The string is Palindrome\" if Palindrome==s2 else \"The string is not Palindrome\")\n"
   ]
  },
  {
   "cell_type": "markdown",
   "id": "92eca24f-e851-4ea7-b0b1-8099719b5570",
   "metadata": {},
   "source": [
    "3. Convert a string to uppercase."
   ]
  },
  {
   "cell_type": "code",
   "execution_count": 3,
   "id": "77680a10-9af3-4cd1-8ffd-a8eaf45577c7",
   "metadata": {},
   "outputs": [
    {
     "name": "stdin",
     "output_type": "stream",
     "text": [
      "Enter the string to be changed to Upper Case: hello\n"
     ]
    },
    {
     "name": "stdout",
     "output_type": "stream",
     "text": [
      "HELLO\n"
     ]
    }
   ],
   "source": [
    "s3=input(\"Enter the string to be changed to Upper Case:\")\n",
    "s3=s3.upper()\n",
    "print(s3)"
   ]
  },
  {
   "cell_type": "markdown",
   "id": "3c955fb8-a1c4-4092-86bc-e03d2bd326d1",
   "metadata": {},
   "source": [
    "4. Convert a string to lowercase."
   ]
  },
  {
   "cell_type": "code",
   "execution_count": 4,
   "id": "7f349afa-3033-4dcf-897d-f15f3c2d9e73",
   "metadata": {},
   "outputs": [
    {
     "name": "stdin",
     "output_type": "stream",
     "text": [
      "Enter the string to be changed to Upper Case: hello\n"
     ]
    },
    {
     "name": "stdout",
     "output_type": "stream",
     "text": [
      "hello\n"
     ]
    }
   ],
   "source": [
    "s3=input(\"Enter the string to be changed to Upper Case:\")\n",
    "s3=s3.lower()\n",
    "print(s3)"
   ]
  },
  {
   "cell_type": "markdown",
   "id": "61001f66-2e91-42ea-ba00-88f47ed7346a",
   "metadata": {},
   "source": [
    "5. Count the number of vowels in a string."
   ]
  },
  {
   "cell_type": "code",
   "execution_count": 5,
   "id": "cb649c84-2eb8-4b3f-84a2-6c56f37c6e92",
   "metadata": {},
   "outputs": [
    {
     "name": "stdin",
     "output_type": "stream",
     "text": [
      "Enter the sentence: hello\n"
     ]
    },
    {
     "name": "stdout",
     "output_type": "stream",
     "text": [
      "2\n"
     ]
    }
   ],
   "source": [
    "Sentence=input(\"Enter the sentence:\")  #Enter the sentence as input\n",
    "Sentence=Sentence.lower()        #Convert the sentence to lowercase\n",
    "a=Sentence.count(\"a\")            #Count the vowels\n",
    "e=Sentence.count(\"e\")\n",
    "i=Sentence.count(\"i\")\n",
    "o=Sentence.count(\"o\")\n",
    "u=Sentence.count(\"u\")\n",
    "Vowels=sum([a,e,i,o,u])          #add the total number of vowels \n",
    "print(Vowels)                    #display the results"
   ]
  },
  {
   "cell_type": "markdown",
   "id": "e079f9b9-4568-45f4-82b0-80835e273a33",
   "metadata": {},
   "source": [
    "6. Count the number of consonants in a string."
   ]
  },
  {
   "cell_type": "code",
   "execution_count": 6,
   "id": "646217a7-3a28-4a6b-9fa3-e02fd866211c",
   "metadata": {},
   "outputs": [
    {
     "name": "stdin",
     "output_type": "stream",
     "text": [
      "Enter the sentence: hello\n"
     ]
    },
    {
     "name": "stdout",
     "output_type": "stream",
     "text": [
      "3\n"
     ]
    }
   ],
   "source": [
    "Sentence=input(\"Enter the sentence:\")  #Enter the sentence as input\n",
    "Sentence=Sentence.lower()  #Convert the sentence to lowercase\n",
    "Sentence=Sentence.replace(\" \", \"\")\n",
    "a=Sentence.count(\"a\")            #Count the vowels\n",
    "e=Sentence.count(\"e\")\n",
    "i=Sentence.count(\"i\")\n",
    "o=Sentence.count(\"o\")\n",
    "u=Sentence.count(\"u\")\n",
    "Vowels=sum([a,e,i,o,u])  \n",
    "cp=len(Sentence) \n",
    "vc=cp-Vowels\n",
    "print(vc)                    #display the results"
   ]
  },
  {
   "cell_type": "markdown",
   "id": "bbb28399-5b4b-4545-827f-538639c10eed",
   "metadata": {},
   "source": [
    "7. Remove all whitespaces from a string."
   ]
  },
  {
   "cell_type": "code",
   "execution_count": 7,
   "id": "e3cc9cd5-09bf-4fe6-8923-3b4701e47483",
   "metadata": {},
   "outputs": [
    {
     "name": "stdin",
     "output_type": "stream",
     "text": [
      "Enter the string from which the whitespaces needs to be removed: hello\n"
     ]
    },
    {
     "name": "stdout",
     "output_type": "stream",
     "text": [
      "hello\n"
     ]
    }
   ],
   "source": [
    "s7=input(\"Enter the string from which the whitespaces needs to be removed:\")\n",
    "s7=s7.replace(\" \", \"\")\n",
    "print(s7)"
   ]
  },
  {
   "cell_type": "markdown",
   "id": "0cc181b2-144d-4c5b-9c51-77833294c65d",
   "metadata": {},
   "source": [
    "8. Find the length of a string without using the `len()` function."
   ]
  },
  {
   "cell_type": "code",
   "execution_count": 2,
   "id": "b0874a67-cc72-488a-a178-83af69cf300f",
   "metadata": {},
   "outputs": [
    {
     "name": "stdin",
     "output_type": "stream",
     "text": [
      " I am learning Python\n"
     ]
    },
    {
     "name": "stdout",
     "output_type": "stream",
     "text": [
      "17\n"
     ]
    }
   ],
   "source": [
    "Input_string=input()\n",
    "Input_string=Input_string.replace(\" \",\"\")\n",
    "count=0\n",
    "for char in Input_string:\n",
    "    count+= 1\n",
    "print(count)"
   ]
  },
  {
   "cell_type": "markdown",
   "id": "2235991e-610a-4d3e-a10d-8a886ac57d15",
   "metadata": {},
   "source": [
    "9. Check if a string contains a specific word."
   ]
  },
  {
   "cell_type": "code",
   "execution_count": 6,
   "id": "b628eb3b-ed8d-4ed5-a228-a3925a96cb5b",
   "metadata": {},
   "outputs": [
    {
     "name": "stdin",
     "output_type": "stream",
     "text": [
      " It's great learning Python\n",
      " great\n"
     ]
    },
    {
     "name": "stdout",
     "output_type": "stream",
     "text": [
      "The string contains the word great\n"
     ]
    }
   ],
   "source": [
    "input_string=input()\n",
    "specific_word=input()\n",
    "if specific_word in input_string:\n",
    "    print(\"The string contains the word\",specific_word )\n",
    "else:\n",
    "    print(\"The string does not contain the word\",specific_word)"
   ]
  },
  {
   "cell_type": "markdown",
   "id": "2b9ef962-de85-4d90-9ede-8cdf018bafad",
   "metadata": {},
   "source": [
    "10. Replace a word in a string with another word."
   ]
  },
  {
   "cell_type": "code",
   "execution_count": 8,
   "id": "93363660-a551-450c-8468-f14dbf93df38",
   "metadata": {},
   "outputs": [
    {
     "name": "stdin",
     "output_type": "stream",
     "text": [
      "Enter the sentence hello\n",
      "Enter the old word hello\n",
      "Enter the new word hello\n"
     ]
    },
    {
     "name": "stdout",
     "output_type": "stream",
     "text": [
      "hello\n"
     ]
    }
   ],
   "source": [
    "s10=input(\"Enter the sentence\")\n",
    "old_word=input(\"Enter the old word\")\n",
    "new_word=input(\"Enter the new word\")\n",
    "st10=s10.replace(old_word, new_word)\n",
    "print(st10)"
   ]
  },
  {
   "cell_type": "markdown",
   "id": "2a48a749-797f-4747-8828-1897f6267e96",
   "metadata": {},
   "source": [
    "11. Count the occurrences of a word in a string."
   ]
  },
  {
   "cell_type": "code",
   "execution_count": 8,
   "id": "cf3b0148-da81-4108-8f96-39e028cbc33d",
   "metadata": {},
   "outputs": [
    {
     "name": "stdin",
     "output_type": "stream",
     "text": [
      "Enter the string same word or phrase over and over again in a piece of writing or speech\n",
      "Enter the Word over\n"
     ]
    },
    {
     "name": "stdout",
     "output_type": "stream",
     "text": [
      "The word appers 2 times\n"
     ]
    }
   ],
   "source": [
    "Inpit_string=input(\"Enter the string\")\n",
    "target_word=input(\"Enter the Word\")\n",
    "Inpit_string=Inpit_string.split()\n",
    "def check_the_words(Inpit_string,target_word):\n",
    "    word_count=0\n",
    "    for word in Inpit_string:\n",
    "        if word == target_word:\n",
    "            word_count+=1\n",
    "    return word_count\n",
    "result=check_the_words(Inpit_string,target_word)\n",
    "print(\"The word appears\",result,\"times\")\n",
    "        \n",
    "    \n",
    "    "
   ]
  },
  {
   "cell_type": "markdown",
   "id": "76acad8c-202d-441b-a72a-0c45eebaa32e",
   "metadata": {},
   "source": [
    "12. Find the first occurrence of a word in a string."
   ]
  },
  {
   "cell_type": "code",
   "execution_count": 5,
   "id": "f8ebc6b9-6618-44d1-8f73-5a00a7752096",
   "metadata": {},
   "outputs": [
    {
     "name": "stdin",
     "output_type": "stream",
     "text": [
      "Enter the sentence This is an example sentence. This sentence contains the word example\n",
      "Enter the word example\n"
     ]
    },
    {
     "name": "stdout",
     "output_type": "stream",
     "text": [
      "11\n"
     ]
    }
   ],
   "source": [
    "sentence=input(\"Enter the sentence\")\n",
    "word=input(\"Enter the word\")\n",
    "index=sentence.find(word)\n",
    "if index== -1:\n",
    "    print(\"Not found\")\n",
    "else:\n",
    "    print(index)"
   ]
  },
  {
   "cell_type": "markdown",
   "id": "58120f2e-bc98-475c-8a61-4f85721ed178",
   "metadata": {},
   "source": [
    "13. Find the last occurrence of a word in a string."
   ]
  },
  {
   "cell_type": "code",
   "execution_count": 8,
   "id": "aa91de75-543d-4592-96ba-a1e1f83d50c7",
   "metadata": {},
   "outputs": [
    {
     "name": "stdin",
     "output_type": "stream",
     "text": [
      "Enter the sentence This is an example sentence. This sentence contains the word example\n",
      "Enter the word example\n"
     ]
    },
    {
     "name": "stdout",
     "output_type": "stream",
     "text": [
      "61\n"
     ]
    }
   ],
   "source": [
    "sentence=input(\"Enter the sentence\")\n",
    "word=input(\"Enter the word\")\n",
    "index=sentence.rfind(word)\n",
    "if index== -1:\n",
    "    print(\"Not found\")\n",
    "else:\n",
    "    print(index)\n"
   ]
  },
  {
   "cell_type": "markdown",
   "id": "0f34508a-bfa6-4fcf-9274-d10394cefadc",
   "metadata": {},
   "source": [
    "14. Split a string into a list of words."
   ]
  },
  {
   "cell_type": "code",
   "execution_count": 4,
   "id": "9e716c9e-19aa-424a-9693-87654af6d245",
   "metadata": {},
   "outputs": [
    {
     "name": "stdin",
     "output_type": "stream",
     "text": [
      "Enter the sentence: How are you\n"
     ]
    },
    {
     "name": "stdout",
     "output_type": "stream",
     "text": [
      "List of words: ['How', 'are', 'you']\n"
     ]
    }
   ],
   "source": [
    "s14=input(\"Enter the sentence:\")\n",
    "st14=s14.split()\n",
    "print(\"List of words:\", st14)\n"
   ]
  },
  {
   "cell_type": "markdown",
   "id": "817f861c-bc93-4a6d-b845-01124bf9c9fc",
   "metadata": {},
   "source": [
    "15. Join a list of words into a string."
   ]
  },
  {
   "cell_type": "code",
   "execution_count": 15,
   "id": "35067893-1052-45fa-bb91-8c56b21668fb",
   "metadata": {},
   "outputs": [],
   "source": [
    "def join_the_words(*words):\n",
    "    for j in words:\n",
    "        print(j, end=\" \")\n",
    "        \n",
    "    \n"
   ]
  },
  {
   "cell_type": "code",
   "execution_count": 16,
   "id": "8ec66351-9456-4433-8480-39d79298d1ea",
   "metadata": {},
   "outputs": [
    {
     "name": "stdout",
     "output_type": "stream",
     "text": [
      "This is an example sentence. "
     ]
    }
   ],
   "source": [
    "join_the_words(\"This\", \"is\", \"an\", \"example\", \"sentence.\")"
   ]
  },
  {
   "cell_type": "markdown",
   "id": "5cf21ee8-74e2-4be3-acca-2595a06f232b",
   "metadata": {},
   "source": [
    "16. Convert a string where words are separated by spaces to one where words\n",
    "are separated by underscores."
   ]
  },
  {
   "cell_type": "code",
   "execution_count": 10,
   "id": "a15517c2-bd9b-46c9-a286-59f46d077297",
   "metadata": {},
   "outputs": [
    {
     "name": "stdin",
     "output_type": "stream",
     "text": [
      "Enter the string hello\n"
     ]
    },
    {
     "name": "stdout",
     "output_type": "stream",
     "text": [
      "New String: hello\n"
     ]
    }
   ],
   "source": [
    "s16=input(\"Enter the string\")\n",
    "st16=s16.replace(\" \", \"_\")\n",
    "print(\"New String:\", st16)"
   ]
  },
  {
   "cell_type": "markdown",
   "id": "c64bc3e5-241f-4983-8aca-a05b8fbeb8a1",
   "metadata": {},
   "source": [
    "17. Check if a string starts with a specific word or phrase."
   ]
  },
  {
   "cell_type": "code",
   "execution_count": 21,
   "id": "870b6e8c-21a1-4d9d-a28a-867465246078",
   "metadata": {},
   "outputs": [],
   "source": [
    "def check_if_starts_with(sentence, phrase):\n",
    "    x=sentence.startswith(phrase)\n",
    "    if x==True:\n",
    "        print(\"The text starts with the prefix.\")\n",
    "    else:\n",
    "        print(\"The text doesn't start with the prefix.\")\n",
    "    \n",
    "    "
   ]
  },
  {
   "cell_type": "code",
   "execution_count": 22,
   "id": "400ba110-e14b-40c5-b9db-b0efd879a603",
   "metadata": {},
   "outputs": [
    {
     "name": "stdout",
     "output_type": "stream",
     "text": [
      "The text starts with the prefix.\n"
     ]
    }
   ],
   "source": [
    "check_if_starts_with(\"Hello, world!\",\"Hello\")"
   ]
  },
  {
   "cell_type": "markdown",
   "id": "16b40d21-34cb-4782-8f87-287ab5c54daa",
   "metadata": {},
   "source": [
    "18. Check if a string ends with a specific word or phrase."
   ]
  },
  {
   "cell_type": "code",
   "execution_count": 24,
   "id": "6dbafed1-16a1-4dd0-976d-4187904ce94c",
   "metadata": {},
   "outputs": [],
   "source": [
    "def check_if_ends_with(sentence, phrase):\n",
    "    x=sentence.endswith(phrase)\n",
    "    if x==True:\n",
    "        print(\"The text ends with the phrase.\")\n",
    "    else:\n",
    "        print(\"The text doesn't ends with the phrase.\")\n",
    "    "
   ]
  },
  {
   "cell_type": "code",
   "execution_count": 27,
   "id": "248cf595-d9fb-4116-af03-c48967f164b8",
   "metadata": {},
   "outputs": [
    {
     "name": "stdout",
     "output_type": "stream",
     "text": [
      "The text ends with the phrase.\n"
     ]
    }
   ],
   "source": [
    "check_if_ends_with(\"Hello, world\",\"world\")"
   ]
  },
  {
   "cell_type": "markdown",
   "id": "00264a74-43c6-4a33-ad1a-5b19d991a98d",
   "metadata": {},
   "source": [
    "19. Convert a string to title case (e.g., \"hello world\" to \"Hello World\")."
   ]
  },
  {
   "cell_type": "code",
   "execution_count": 11,
   "id": "f21bce7a-8cb3-4a09-a06e-ecedd2040f1a",
   "metadata": {},
   "outputs": [
    {
     "name": "stdin",
     "output_type": "stream",
     "text": [
      "Enter the string: hello\n"
     ]
    },
    {
     "name": "stdout",
     "output_type": "stream",
     "text": [
      "Hello\n"
     ]
    }
   ],
   "source": [
    "s19=input(\"Enter the string:\")\n",
    "st19=s19.title()\n",
    "print(st19)"
   ]
  },
  {
   "cell_type": "markdown",
   "id": "4ae0fa9c-fd49-431d-ac07-a8df4aa1c25f",
   "metadata": {},
   "source": [
    "20. Find the longest word in a string."
   ]
  },
  {
   "cell_type": "code",
   "execution_count": 29,
   "id": "5fd7c903-7d35-41aa-a490-990684aa0c7a",
   "metadata": {},
   "outputs": [],
   "source": [
    "def longest_word(sentence):\n",
    "    words=sentence.split()\n",
    "    longest_word=\"\"\n",
    "    max_length=0\n",
    "    for w in words:\n",
    "        if len(w)>max_length:\n",
    "            max_length=len(w)\n",
    "            longest_word=w\n",
    "    return longest_word"
   ]
  },
  {
   "cell_type": "code",
   "execution_count": 30,
   "id": "17236e35-437f-4033-8051-59f634cff6a4",
   "metadata": {},
   "outputs": [
    {
     "data": {
      "text/plain": [
       "'sentence'"
      ]
     },
     "execution_count": 30,
     "metadata": {},
     "output_type": "execute_result"
    }
   ],
   "source": [
    "longest_word(\"This is an example sentence with some long words.\")"
   ]
  },
  {
   "cell_type": "markdown",
   "id": "0f7a0f88-fd02-49b1-86ef-b6c2cc3bad7a",
   "metadata": {},
   "source": [
    "21. Find the shortest word in a string."
   ]
  },
  {
   "cell_type": "code",
   "execution_count": 31,
   "id": "17fcf4d9-b1a4-46b9-9866-c78ae9065d6b",
   "metadata": {},
   "outputs": [],
   "source": [
    "def shortest_word(sentence):\n",
    "    words=sentence.split()\n",
    "    min_length=100\n",
    "    shortest_word=\"\"\n",
    "    for w in words:\n",
    "        if len(w)<min_length:\n",
    "            min_length=len(w)\n",
    "            shortest_word=w\n",
    "    return shortest_word"
   ]
  },
  {
   "cell_type": "code",
   "execution_count": 32,
   "id": "ffa06d30-db15-4c2e-8dbb-6e2f3fcfcf00",
   "metadata": {},
   "outputs": [
    {
     "data": {
      "text/plain": [
       "'is'"
      ]
     },
     "execution_count": 32,
     "metadata": {},
     "output_type": "execute_result"
    }
   ],
   "source": [
    "shortest_word(\"This is an example sentence with some long words.\")"
   ]
  },
  {
   "cell_type": "markdown",
   "id": "7616ac75-5b27-4ebc-a49a-bff54feb16be",
   "metadata": {},
   "source": [
    "22. Reverse the order of words in a string."
   ]
  },
  {
   "cell_type": "code",
   "execution_count": 44,
   "id": "a37a78a2-b5da-4dbd-8e2d-b5709fda30e4",
   "metadata": {},
   "outputs": [],
   "source": [
    "def reverse_words(a):\n",
    "    a=a.split()\n",
    "    a=a[::-1]\n",
    "    reversed_string=\" \".join(a)\n",
    "    return reversed_string\n",
    "\n",
    "    "
   ]
  },
  {
   "cell_type": "code",
   "execution_count": 45,
   "id": "bd965080-c531-45dd-96af-db70b5b1428b",
   "metadata": {},
   "outputs": [
    {
     "data": {
      "text/plain": [
       "'words long some with sentence example an is This'"
      ]
     },
     "execution_count": 45,
     "metadata": {},
     "output_type": "execute_result"
    }
   ],
   "source": [
    "reverse_words(\"This is an example sentence with some long words\")"
   ]
  },
  {
   "cell_type": "markdown",
   "id": "751a7a8a-e58c-4b82-bff1-e9bad05267e3",
   "metadata": {},
   "source": [
    "23. Check if a string is alphanumeric."
   ]
  },
  {
   "cell_type": "code",
   "execution_count": 13,
   "id": "434989c8-db36-478d-8b18-3a207279e7f9",
   "metadata": {},
   "outputs": [],
   "source": [
    "def alphanumeric_string(text):\n",
    "    ans=text.isalnum()\n",
    "    if ans==True:\n",
    "        print(\"The text is alphanumeric\")\n",
    "    else:\n",
    "        print(\"The text is not alphanueric\")\n",
    "    "
   ]
  },
  {
   "cell_type": "code",
   "execution_count": 14,
   "id": "23f0a1f0-fec1-4bca-9352-fa4eff8adc78",
   "metadata": {},
   "outputs": [
    {
     "name": "stdout",
     "output_type": "stream",
     "text": [
      "The text is not alphanueric\n"
     ]
    }
   ],
   "source": [
    "alphanumeric_string(\"*^*\")"
   ]
  },
  {
   "cell_type": "markdown",
   "id": "65f1499e-c81f-472f-8207-c1a5ba908f1b",
   "metadata": {},
   "source": [
    "24. Extract all digits from a string."
   ]
  },
  {
   "cell_type": "code",
   "execution_count": 17,
   "id": "5af3148c-f867-4425-9028-29bc45c427dd",
   "metadata": {},
   "outputs": [],
   "source": [
    "def extract_digits(text):\n",
    "    digits=\"\"\n",
    "    for char in text:\n",
    "        if char.isdigit():\n",
    "            digits += char\n",
    "    return digits"
   ]
  },
  {
   "cell_type": "code",
   "execution_count": 18,
   "id": "10bd615d-a61b-4314-ad38-bcf94a52d6d2",
   "metadata": {},
   "outputs": [
    {
     "data": {
      "text/plain": [
       "'123456'"
      ]
     },
     "execution_count": 18,
     "metadata": {},
     "output_type": "execute_result"
    }
   ],
   "source": [
    "extract_digits(\"Hello123World456\")"
   ]
  },
  {
   "cell_type": "markdown",
   "id": "3f303de5-ed30-47a3-bba1-99d3e342572a",
   "metadata": {},
   "source": [
    "25. Extract all alphabets from a string."
   ]
  },
  {
   "cell_type": "code",
   "execution_count": 29,
   "id": "324c9043-c6a8-40df-8818-28e4a537da79",
   "metadata": {},
   "outputs": [],
   "source": [
    "def extract_alph(text):\n",
    "    alphs=\"\"\n",
    "    for char in text:\n",
    "        if char.isalpha():\n",
    "            alphs += char\n",
    "    return alphs"
   ]
  },
  {
   "cell_type": "code",
   "execution_count": 30,
   "id": "e476fe56-4940-4e2c-992c-903c4bf5c2cb",
   "metadata": {},
   "outputs": [
    {
     "data": {
      "text/plain": [
       "'HelloWorld'"
      ]
     },
     "execution_count": 30,
     "metadata": {},
     "output_type": "execute_result"
    }
   ],
   "source": [
    "extract_alph(\"Hello123World456\")"
   ]
  },
  {
   "cell_type": "markdown",
   "id": "858f2d83-1943-4161-b83f-3ac6982ca204",
   "metadata": {},
   "source": [
    "26. Count the number of uppercase letters in a string."
   ]
  },
  {
   "cell_type": "code",
   "execution_count": 39,
   "id": "f114c4d4-5f6c-4fea-8e9a-9625e42a9704",
   "metadata": {},
   "outputs": [],
   "source": [
    "def upper_case(text):\n",
    "    upp_case=\"\"\n",
    "    upper=\"\"\n",
    "    for u in text:\n",
    "        if u.isupper():\n",
    "            upper += u\n",
    "            upp_case=len(upper)\n",
    "    return upp_case"
   ]
  },
  {
   "cell_type": "code",
   "execution_count": 40,
   "id": "1ed2ebcc-4a82-48d9-8437-398ed12b4267",
   "metadata": {},
   "outputs": [
    {
     "data": {
      "text/plain": [
       "6"
      ]
     },
     "execution_count": 40,
     "metadata": {},
     "output_type": "execute_result"
    }
   ],
   "source": [
    "upper_case(\"HelloWORLD\")"
   ]
  },
  {
   "cell_type": "markdown",
   "id": "38bda11b-7a3d-424b-8087-a4a58593a184",
   "metadata": {},
   "source": [
    "27. Count the number of lowercase letters in a string."
   ]
  },
  {
   "cell_type": "code",
   "execution_count": 37,
   "id": "0a69fbc4-78e9-4023-87c2-d97a53af68ca",
   "metadata": {},
   "outputs": [],
   "source": [
    "def lower_case(text):\n",
    "    low_case=\"\"\n",
    "    lower=\"\"\n",
    "    for u in text:\n",
    "        if u.islower():\n",
    "            lower += u\n",
    "            low_case = len(lower)\n",
    "    return low_case"
   ]
  },
  {
   "cell_type": "code",
   "execution_count": 38,
   "id": "64e8ab68-ec0f-4533-be5d-1f485fac99d7",
   "metadata": {},
   "outputs": [
    {
     "data": {
      "text/plain": [
       "4"
      ]
     },
     "execution_count": 38,
     "metadata": {},
     "output_type": "execute_result"
    }
   ],
   "source": [
    "lower_case(\"HelloWORLD\")"
   ]
  },
  {
   "cell_type": "markdown",
   "id": "b05e142c-69ad-49df-a0ee-4865b5f08531",
   "metadata": {},
   "source": [
    "28. Swap the case of each character in a string."
   ]
  },
  {
   "cell_type": "code",
   "execution_count": 43,
   "id": "710ae7e0-08f1-43d6-8c6e-65b7d87d0389",
   "metadata": {},
   "outputs": [],
   "source": [
    "def swap_case(text):\n",
    "    swapped = text.swapcase()\n",
    "    return swapped"
   ]
  },
  {
   "cell_type": "code",
   "execution_count": 44,
   "id": "dcf469aa-e4d7-4b56-b39a-fa6ac0963244",
   "metadata": {},
   "outputs": [
    {
     "data": {
      "text/plain": [
       "'hELLOworld'"
      ]
     },
     "execution_count": 44,
     "metadata": {},
     "output_type": "execute_result"
    }
   ],
   "source": [
    "swap_case(\"HelloWORLD\")"
   ]
  },
  {
   "cell_type": "markdown",
   "id": "cbeee4f8-fe65-444f-9ebb-79ff9a69f398",
   "metadata": {},
   "source": [
    "29. Remove a specific word from a string."
   ]
  },
  {
   "cell_type": "code",
   "execution_count": 73,
   "id": "2ded92a5-e34b-4d1e-86fe-b345c15c8f0f",
   "metadata": {},
   "outputs": [],
   "source": [
    "def remove_word(string,word_to_exclude):\n",
    "    filtered_words=[]\n",
    "    string=string.lower()\n",
    "    string=string.split()\n",
    "    for s in string:\n",
    "          if s != word_to_exclude.lower():\n",
    "              filtered_words.append(s)\n",
    "    modified_string=\" \".join(filtered_words)\n",
    "    return modified_string        \n",
    "        "
   ]
  },
  {
   "cell_type": "code",
   "execution_count": 74,
   "id": "7e07303f-fe70-4dad-a0a4-6f2d44d7d1fb",
   "metadata": {},
   "outputs": [
    {
     "data": {
      "text/plain": [
       "'hello welcome to the of programming'"
      ]
     },
     "execution_count": 74,
     "metadata": {},
     "output_type": "execute_result"
    }
   ],
   "source": [
    "remove_word(\"Hello world welcome to the world of programming\",\"world\")"
   ]
  },
  {
   "cell_type": "markdown",
   "id": "3d9995b1-3157-4d53-a1a1-c49bd37a1ca0",
   "metadata": {},
   "source": [
    "30. Check if a string is a valid email address."
   ]
  },
  {
   "cell_type": "code",
   "execution_count": 82,
   "id": "9ad2db19-1fdd-4ccf-b00b-37cafe85a49f",
   "metadata": {},
   "outputs": [
    {
     "name": "stdin",
     "output_type": "stream",
     "text": [
      "Enter your E-Mail: dfgb@klwj.com\n"
     ]
    },
    {
     "name": "stdout",
     "output_type": "stream",
     "text": [
      "The E-mail address is valid\n"
     ]
    }
   ],
   "source": [
    "Mail=input(\"Enter your E-Mail:\")\n",
    "if \"@\" and \".com\" in Mail:\n",
    "    print(\"The E-mail address is valid\")\n",
    "    \n",
    "else:\n",
    "    print(\"The E-mail address is not valid\")"
   ]
  },
  {
   "cell_type": "markdown",
   "id": "98730b1a-5886-4280-8c76-3f6afec819db",
   "metadata": {},
   "source": [
    "31. Extract the username from an email address string."
   ]
  },
  {
   "cell_type": "code",
   "execution_count": 84,
   "id": "22b622e6-2f13-4469-889f-f31c7c196e91",
   "metadata": {},
   "outputs": [
    {
     "name": "stdin",
     "output_type": "stream",
     "text": [
      "Enter the E-Mail to get the username: sgb@sdngvbin.com\n"
     ]
    },
    {
     "name": "stdout",
     "output_type": "stream",
     "text": [
      "The user name is: sgb\n"
     ]
    }
   ],
   "source": [
    "Email=input(\"Enter the E-Mail to get the username:\")\n",
    "Username=Email.split('@')[0]\n",
    "print(\"The user name is:\",Username)"
   ]
  },
  {
   "cell_type": "markdown",
   "id": "1b56ca3e-8153-4a1d-992a-6b55ce04d5d9",
   "metadata": {},
   "source": [
    "32. Extract the domain name from an email address string."
   ]
  },
  {
   "cell_type": "code",
   "execution_count": 85,
   "id": "bde0eaca-52aa-4575-bb01-5327551f042e",
   "metadata": {},
   "outputs": [
    {
     "name": "stdin",
     "output_type": "stream",
     "text": [
      "Enter the E-Mail to get the domain: sdbjvgb@skn.com\n"
     ]
    },
    {
     "name": "stdout",
     "output_type": "stream",
     "text": [
      "The Domain name is: skn.com\n"
     ]
    }
   ],
   "source": [
    "Email=input(\"Enter the E-Mail to get the domain:\")\n",
    "Domain=Email.split('@')[1]\n",
    "print(\"The Domain name is:\",Domain)"
   ]
  },
  {
   "cell_type": "markdown",
   "id": "23cb6aa2-9451-424b-b0e0-1fa1bbd3f7ac",
   "metadata": {},
   "source": [
    "33. Replace multiple spaces in a string with a single space."
   ]
  },
  {
   "cell_type": "code",
   "execution_count": 86,
   "id": "8bae0991-c6b0-48ae-9667-83670ee755eb",
   "metadata": {},
   "outputs": [],
   "source": [
    "def multispace_string(input):\n",
    "    cleaned_string=' '.join(input.split())\n",
    "    return cleaned_string"
   ]
  },
  {
   "cell_type": "code",
   "execution_count": 87,
   "id": "15f9c52d-7d7b-4402-9e71-61dee8a85287",
   "metadata": {},
   "outputs": [
    {
     "data": {
      "text/plain": [
       "'Hello world! How are you?'"
      ]
     },
     "execution_count": 87,
     "metadata": {},
     "output_type": "execute_result"
    }
   ],
   "source": [
    " multispace_string(\"Hello     world!   How   are   you?\")"
   ]
  },
  {
   "cell_type": "markdown",
   "id": "932935e3-3296-4db8-ac2e-de8b23d114f8",
   "metadata": {},
   "source": [
    "34. Check if a string is a valid URL."
   ]
  },
  {
   "cell_type": "code",
   "execution_count": 20,
   "id": "9ea56e61-3b2f-47ea-ab52-cb26e36d0b06",
   "metadata": {},
   "outputs": [
    {
     "data": {
      "text/plain": [
       "True"
      ]
     },
     "execution_count": 20,
     "metadata": {},
     "output_type": "execute_result"
    }
   ],
   "source": [
    "from urllib.parse import urlparse\n",
    "\n",
    "def is_valid_url(url):\n",
    "    try:\n",
    "        result = urlparse(url)\n",
    "        return all([result.scheme, result.netloc])\n",
    "    except ValueError:\n",
    "        return False\n",
    "\n",
    "is_valid_url(\"https://www.example.com\")"
   ]
  },
  {
   "cell_type": "markdown",
   "id": "fd8c391a-d0da-4c16-b25d-61ab19e62f1f",
   "metadata": {},
   "source": [
    "35. Extract the protocol (http or https) from a URL string."
   ]
  },
  {
   "cell_type": "code",
   "execution_count": 16,
   "id": "375eae60-1b74-41d9-9db7-a6cf944a40fe",
   "metadata": {},
   "outputs": [
    {
     "data": {
      "text/plain": [
       "'https'"
      ]
     },
     "execution_count": 16,
     "metadata": {},
     "output_type": "execute_result"
    }
   ],
   "source": [
    "def check_substring(url):\n",
    "    index = url.find(\"://\")\n",
    "    if index != -1:\n",
    "        protocol = url[:index]\n",
    "        return protocol \n",
    "    else:\n",
    "        return None\n",
    "\n",
    "check_substring(\"https://www.google.co.in/\")\n",
    "\n"
   ]
  },
  {
   "cell_type": "markdown",
   "id": "370e77d8-af89-4e83-93e7-7075c9450254",
   "metadata": {},
   "source": [
    "36. Find the frequency of each character in a string."
   ]
  },
  {
   "cell_type": "code",
   "execution_count": 20,
   "id": "fd1bdf61-e1b4-48ec-974c-b0019f4e86d4",
   "metadata": {},
   "outputs": [
    {
     "data": {
      "text/plain": [
       "{'H': 1, 'e': 1, 'l': 3, 'o': 2, ' ': 1, 'W': 1, 'r': 1, 'd': 1}"
      ]
     },
     "execution_count": 20,
     "metadata": {},
     "output_type": "execute_result"
    }
   ],
   "source": [
    "def find_frequency(a):\n",
    "    f={}\n",
    "    for char in a:\n",
    "        if char in f:\n",
    "            f[char] =f[char] + 1\n",
    "        else:\n",
    "            f[char] = 1\n",
    "    return f\n",
    "\n",
    "find_frequency(\"Hello World\")"
   ]
  },
  {
   "cell_type": "markdown",
   "id": "205c955b-c87f-4c78-932a-e91fe058a8a0",
   "metadata": {},
   "source": [
    "37. Remove all punctuation from a string."
   ]
  },
  {
   "cell_type": "code",
   "execution_count": 22,
   "id": "63095135-84e0-48cb-8dc3-38c9b2372639",
   "metadata": {},
   "outputs": [
    {
     "data": {
      "text/plain": [
       "'Hello world Hows it going'"
      ]
     },
     "execution_count": 22,
     "metadata": {},
     "output_type": "execute_result"
    }
   ],
   "source": [
    "import string\n",
    "def remove_punctuation(input_string):\n",
    "    translator = str.maketrans(\"\", \"\", string.punctuation)\n",
    "    clean_string = input_string.translate(translator)\n",
    "    return clean_string\n",
    "\n",
    "remove_punctuation(\"Hello, world! How's it going?\")"
   ]
  },
  {
   "cell_type": "markdown",
   "id": "f16ef917-282a-4489-acb3-2ae50798c06d",
   "metadata": {},
   "source": [
    "38. Check if a string contains only digits.\n"
   ]
  },
  {
   "cell_type": "code",
   "execution_count": 3,
   "id": "74c21408-d7f1-4ed3-83a9-472750a76770",
   "metadata": {},
   "outputs": [
    {
     "data": {
      "text/plain": [
       "True"
      ]
     },
     "execution_count": 3,
     "metadata": {},
     "output_type": "execute_result"
    }
   ],
   "source": [
    "def only_digits(a):\n",
    "    return a.isdigit()\n",
    "\n",
    "\n",
    "only_digits(\"1235464\")"
   ]
  },
  {
   "cell_type": "markdown",
   "id": "441bba09-84ed-4c9e-a496-b40593d54cd3",
   "metadata": {},
   "source": [
    "39. Check if a string contains only alphabets.\n"
   ]
  },
  {
   "cell_type": "code",
   "execution_count": 5,
   "id": "9bd18ddd-623c-4623-8b77-714f61c192e7",
   "metadata": {},
   "outputs": [
    {
     "data": {
      "text/plain": [
       "False"
      ]
     },
     "execution_count": 5,
     "metadata": {},
     "output_type": "execute_result"
    }
   ],
   "source": [
    "def only_digits(a):\n",
    "    return a.isalpha()\n",
    "\n",
    "\n",
    "only_digits(\"454\")"
   ]
  },
  {
   "cell_type": "markdown",
   "id": "6f488abb-4d07-482b-921b-6816e1bbeb3f",
   "metadata": {},
   "source": [
    "40. Convert a string to a list of characters.\n"
   ]
  },
  {
   "cell_type": "code",
   "execution_count": 10,
   "id": "0811fa95-c48b-47c3-81b1-5e9346d9627f",
   "metadata": {},
   "outputs": [
    {
     "name": "stdout",
     "output_type": "stream",
     "text": [
      "['C', 'o', 'n', 'v', 'e', 'r', 't', ' ', 'a', ' ', 's', 't', 'r', 'i', 'n', 'g', ' ', 't', 'o', ' ', 'a', ' ', 'l', 'i', 's', 't', ' ', 'o', 'f', ' ', 'c', 'h', 'a', 'r', 'a', 'c', 't', 'e', 'r', 's']\n"
     ]
    }
   ],
   "source": [
    "def list_of_char(a):\n",
    "    l=[]\n",
    "    for i in a:\n",
    "        l.append(i)\n",
    "    print(l)\n",
    "\n",
    "list_of_char(\"Convert a string to a list of characters\")"
   ]
  },
  {
   "cell_type": "markdown",
   "id": "56b526dd-5514-48a7-9128-a832ce8a2170",
   "metadata": {},
   "source": [
    "41. Check if two strings are anagrams.\n"
   ]
  },
  {
   "cell_type": "code",
   "execution_count": 15,
   "id": "fc3ef1a9-c902-4a65-840a-c76b180d2eb5",
   "metadata": {},
   "outputs": [
    {
     "data": {
      "text/plain": [
       "True"
      ]
     },
     "execution_count": 15,
     "metadata": {},
     "output_type": "execute_result"
    }
   ],
   "source": [
    "def sort_strings_(str1, str2):\n",
    "    str1=str1.replace(\" \",\"\").lower()\n",
    "    str2=str2.replace(\" \",\"\").lower()\n",
    "\n",
    "    return sorted(str1) == sorted(str2)\n",
    "\n",
    "sort_strings_(\"A decimal point\", \"Im a dot in place\")"
   ]
  },
  {
   "cell_type": "markdown",
   "id": "e8ffde7d-f557-4509-ade3-31f5e42faeec",
   "metadata": {},
   "source": [
    "42. Encode a string using a Caesar cipher.\n"
   ]
  },
  {
   "cell_type": "code",
   "execution_count": 24,
   "id": "4cbc030c-b28c-4ab8-a4b1-937891194414",
   "metadata": {},
   "outputs": [
    {
     "data": {
      "text/plain": [
       "'ehoor, zruog!'"
      ]
     },
     "execution_count": 24,
     "metadata": {},
     "output_type": "execute_result"
    }
   ],
   "source": [
    "def ceasar_cipher(text, shift):\n",
    "    encoded_text = \"\"\n",
    "    for char in text:\n",
    "        if char.isalpha():\n",
    "            encoded_char = chr((ord(char) + shift - ord('a')) % 26 + ord('a'))\n",
    "        else:\n",
    "            encoded_char = char\n",
    "        encoded_text += encoded_char \n",
    "    return encoded_text\n",
    "\n",
    "ceasar_cipher(\"Hello, world!\", 3)"
   ]
  },
  {
   "cell_type": "markdown",
   "id": "ba851f5d-2376-4ed5-8760-1ee797bab568",
   "metadata": {},
   "source": [
    "43. Decode a Caesar cipher encoded string.\n"
   ]
  },
  {
   "cell_type": "code",
   "execution_count": 25,
   "id": "4fb33dbb-c68d-44ac-88e8-79fb783992e8",
   "metadata": {},
   "outputs": [
    {
     "data": {
      "text/plain": [
       "'bello, world!'"
      ]
     },
     "execution_count": 25,
     "metadata": {},
     "output_type": "execute_result"
    }
   ],
   "source": [
    "def ceasar_cipher_decoder(text, shift):\n",
    "    decoded_text = \"\"\n",
    "    for char in text:\n",
    "        if char.isalpha():\n",
    "            decoded_char = chr((ord(char) - shift - ord('a')) % 26 + ord('a'))\n",
    "        else:\n",
    "            decoded_char = char\n",
    "        decoded_text += decoded_char \n",
    "    return decoded_text\n",
    "\n",
    "ceasar_cipher_decoder('ehoor, zruog!', 3)"
   ]
  },
  {
   "cell_type": "markdown",
   "id": "340a99de-8ea9-49fc-9714-8a2834911d33",
   "metadata": {},
   "source": [
    "44. Find the most frequent word in a string.\n"
   ]
  },
  {
   "cell_type": "code",
   "execution_count": 26,
   "id": "edd96915-f3a6-4558-a1dd-53684a304a8d",
   "metadata": {},
   "outputs": [
    {
     "data": {
      "text/plain": [
       "'hello'"
      ]
     },
     "execution_count": 26,
     "metadata": {},
     "output_type": "execute_result"
    }
   ],
   "source": [
    "import re\n",
    "from collections import Counter\n",
    "def most_frequent_word(input_string):\n",
    "    clean_string = re.sub(r'[^\\w\\s]', '', input_string).lower()\n",
    "    words = clean_string.split()\n",
    "    word_counter = Counter(words)\n",
    "    most_common_word = word_counter.most_common(1)[0][0]\n",
    "    return most_common_word\n",
    "\n",
    "most_frequent_word(\"Hello world, hello there! How's the world?\")"
   ]
  },
  {
   "cell_type": "markdown",
   "id": "a18f00c1-3062-4a75-a777-af5d35042c26",
   "metadata": {},
   "source": [
    "45. Find all unique words in a string.\n"
   ]
  },
  {
   "cell_type": "code",
   "execution_count": 27,
   "id": "ee22e17d-dd70-45e4-95d0-e2e63a5088dc",
   "metadata": {},
   "outputs": [
    {
     "data": {
      "text/plain": [
       "{'hello', 'hows', 'the', 'there', 'world'}"
      ]
     },
     "execution_count": 27,
     "metadata": {},
     "output_type": "execute_result"
    }
   ],
   "source": [
    "import re\n",
    "def unique_word(input_string):\n",
    "    clean_string = re.sub(r'[^\\w\\s]', '', input_string).lower()\n",
    "    words = set(clean_string.split())\n",
    "    return words\n",
    "\n",
    "unique_word(\"Hello world, hello there! How's the world?\")"
   ]
  },
  {
   "cell_type": "markdown",
   "id": "7ae20a4a-cade-4849-b8e3-af7760d7e517",
   "metadata": {},
   "source": [
    "46. Count the number of syllables in a string."
   ]
  },
  {
   "cell_type": "code",
   "execution_count": 28,
   "id": "980ff8ee-99b9-411d-8f1b-9c69af5bc729",
   "metadata": {},
   "outputs": [
    {
     "data": {
      "text/plain": [
       "3"
      ]
     },
     "execution_count": 28,
     "metadata": {},
     "output_type": "execute_result"
    }
   ],
   "source": [
    "import re\n",
    "def count_syllables(word):\n",
    "    vowels_group = re.findall(r'[aeiou]+', word, re.IGNORECASE)\n",
    "    return len(vowels_group)\n",
    "\n",
    "count_syllables(\"banana\")"
   ]
  },
  {
   "cell_type": "markdown",
   "id": "2835d71a-a6e8-43c8-8bc4-a0fbffc6e5dc",
   "metadata": {},
   "source": [
    "47. Check if a string contains any special characters.\n"
   ]
  },
  {
   "cell_type": "code",
   "execution_count": 29,
   "id": "4536aaba-1044-46a2-bfe4-7a3124376208",
   "metadata": {},
   "outputs": [
    {
     "data": {
      "text/plain": [
       "True"
      ]
     },
     "execution_count": 29,
     "metadata": {},
     "output_type": "execute_result"
    }
   ],
   "source": [
    "import re\n",
    "def spl_char(input_string):\n",
    "    pattern = re.compile(r'[!@#$%^&*()_+{}\\[\\]:;<>,.?~\\\\/]')\n",
    "    match = pattern.search(input_string)\n",
    "    return bool(match)\n",
    "\n",
    "spl_char(\"Special@Characters\")"
   ]
  },
  {
   "cell_type": "markdown",
   "id": "8baf4644-a7ee-4223-a20a-decb802bf936",
   "metadata": {},
   "source": [
    "48. Remove the nth word from a string.\n"
   ]
  },
  {
   "cell_type": "code",
   "execution_count": 30,
   "id": "1a3ad2ea-5f83-4775-a336-c4491a533e82",
   "metadata": {},
   "outputs": [
    {
     "data": {
      "text/plain": [
       "('This is an sentence to test the function.', 'example')"
      ]
     },
     "execution_count": 30,
     "metadata": {},
     "output_type": "execute_result"
    }
   ],
   "source": [
    "def remove_nth_word(input_string, n):\n",
    "    \n",
    "    words = input_string.split()\n",
    "    if n >= 1 and n <= len(words):\n",
    "        removed_word = words.pop(n - 1)\n",
    "        modified_string = ' '.join(words)\n",
    "\n",
    "        return modified_string, removed_word\n",
    "    else:\n",
    "        return None, None\n",
    "\n",
    "remove_nth_word(\"This is an example sentence to test the function.\", 4)"
   ]
  },
  {
   "cell_type": "markdown",
   "id": "0c2708cb-a707-4421-befa-e2fc43f9d904",
   "metadata": {},
   "source": [
    "49. Insert a word at the nth position in a string.\n"
   ]
  },
  {
   "cell_type": "code",
   "execution_count": 31,
   "id": "69996b7b-5c83-46a1-b629-b816d6f42835",
   "metadata": {},
   "outputs": [
    {
     "data": {
      "text/plain": [
       "'This is a new sample sentence.'"
      ]
     },
     "execution_count": 31,
     "metadata": {},
     "output_type": "execute_result"
    }
   ],
   "source": [
    "def insert_word_at_nth_position(sentence, word, n):\n",
    "    words = sentence.split()\n",
    "    words.insert(n, word)\n",
    "    return ' '.join(words)\n",
    "\n",
    "\n",
    "insert_word_at_nth_position(\"This is a sample sentence.\", \"new\", 3)\n"
   ]
  },
  {
   "cell_type": "markdown",
   "id": "59bccc4b-3694-423c-a8e6-8f9a55e4b598",
   "metadata": {},
   "source": [
    "50. Convert a CSV string to a list of lists."
   ]
  },
  {
   "cell_type": "code",
   "execution_count": 32,
   "id": "b992748c-4997-4c1c-a922-38d197ddc2e3",
   "metadata": {},
   "outputs": [
    {
     "data": {
      "text/plain": [
       "[['Name', ' Age', ' Country'],\n",
       " ['John', ' 25', ' USA'],\n",
       " ['Alice', ' 30', ' Canada'],\n",
       " ['Bob', ' 22', ' UK']]"
      ]
     },
     "execution_count": 32,
     "metadata": {},
     "output_type": "execute_result"
    }
   ],
   "source": [
    "def csv_string_to_list(csv_string):\n",
    "    lines = csv_string.split('\\n')\n",
    "    result = []\n",
    "    for line in lines:\n",
    "        fields = line.split(',')\n",
    "        result.append(fields)\n",
    "    return result\n",
    "\n",
    "csv_string_to_list(\"Name, Age, Country\\nJohn, 25, USA\\nAlice, 30, Canada\\nBob, 22, UK\")"
   ]
  },
  {
   "cell_type": "markdown",
   "id": "c4ac7606-f74e-47a6-8f51-810c1321b64b",
   "metadata": {},
   "source": [
    "List Based Practice Problem :"
   ]
  },
  {
   "cell_type": "markdown",
   "id": "bc6e85a9-7980-4710-8fae-de31ad4e96dc",
   "metadata": {},
   "source": [
    "1 Create a list with integers from 1 to 10."
   ]
  },
  {
   "cell_type": "code",
   "execution_count": 88,
   "id": "ca3f098d-fec5-4d5b-af5a-9a479b0b1233",
   "metadata": {},
   "outputs": [
    {
     "name": "stdout",
     "output_type": "stream",
     "text": [
      "[1, 2, 3, 4, 5, 6, 7, 8, 9, 10]\n"
     ]
    }
   ],
   "source": [
    "integer_list=[i for i in range(1,11)]\n",
    "print(integer_list)"
   ]
  },
  {
   "cell_type": "markdown",
   "id": "8b562710-00d7-415a-b5b4-7580f5ed8fe7",
   "metadata": {},
   "source": [
    "2 Find the length of a list without using the `len()` function."
   ]
  },
  {
   "cell_type": "code",
   "execution_count": 93,
   "id": "4d95a88e-24cf-482d-8ad0-75fea75a7213",
   "metadata": {},
   "outputs": [],
   "source": [
    "def count_items(input_list):\n",
    "    count=0\n",
    "    for i in input_list:\n",
    "        count+=1\n",
    "    return count\n",
    "    "
   ]
  },
  {
   "cell_type": "code",
   "execution_count": 94,
   "id": "199484bd-5880-4bdb-b341-960f27a9c77e",
   "metadata": {},
   "outputs": [
    {
     "data": {
      "text/plain": [
       "8"
      ]
     },
     "execution_count": 94,
     "metadata": {},
     "output_type": "execute_result"
    }
   ],
   "source": [
    "count_items([10, 20, 30, 40, 50,58,586,655])"
   ]
  },
  {
   "cell_type": "markdown",
   "id": "50f55809-3e09-4d22-960d-724b967d16ee",
   "metadata": {},
   "source": [
    "3 Append an element to the end of a list."
   ]
  },
  {
   "cell_type": "code",
   "execution_count": 12,
   "id": "1707987a-dbde-4bbd-91a1-3849518233d7",
   "metadata": {},
   "outputs": [
    {
     "name": "stdout",
     "output_type": "stream",
     "text": [
      "[1, 2, 3, 4, 5, 7, 8, 9]\n"
     ]
    }
   ],
   "source": [
    "my_list=[1,2,3,4,5,7,8]\n",
    "my_list.append(9)\n",
    "print(my_list)"
   ]
  },
  {
   "cell_type": "markdown",
   "id": "aaec321d-27f0-4a78-97e5-81008e86ed5c",
   "metadata": {},
   "source": [
    "4. Insert an element at a specific index in a list."
   ]
  },
  {
   "cell_type": "code",
   "execution_count": 13,
   "id": "0c7e65b7-f518-4f9b-9c6f-9866e42e49ed",
   "metadata": {},
   "outputs": [
    {
     "name": "stdout",
     "output_type": "stream",
     "text": [
      "[1, 2, 3, 4, 5, 6, 7, 8]\n"
     ]
    }
   ],
   "source": [
    "my_list4=[1,2,3,4,6,7,8]\n",
    "my_list4.insert(4,5)\n",
    "print(my_list4)"
   ]
  },
  {
   "cell_type": "markdown",
   "id": "0fd1f6c8-e7b9-478d-8c54-a1be27fbde1a",
   "metadata": {},
   "source": [
    "5. Remove an element from a list by its value."
   ]
  },
  {
   "cell_type": "code",
   "execution_count": 14,
   "id": "c6619779-0b9e-4515-bfcb-69f98f5b9162",
   "metadata": {},
   "outputs": [
    {
     "name": "stdout",
     "output_type": "stream",
     "text": [
      "[1, 2, 3, 6, 7, 8]\n"
     ]
    }
   ],
   "source": [
    "my_list5=[1,2,3,4,6,7,8]\n",
    "my_list5.remove(4)\n",
    "print(my_list5)"
   ]
  },
  {
   "cell_type": "markdown",
   "id": "88efd53d-d60b-436e-a68c-83398a4e2612",
   "metadata": {},
   "source": [
    "6. Remove an element from a list by its index."
   ]
  },
  {
   "cell_type": "code",
   "execution_count": 15,
   "id": "9c2ccfda-265f-4c29-a826-3b0df9d35f9c",
   "metadata": {},
   "outputs": [
    {
     "name": "stdout",
     "output_type": "stream",
     "text": [
      "[1, 2, 3, 4, 7, 8]\n"
     ]
    }
   ],
   "source": [
    "my_list6=[1,2,3,4,6,7,8]\n",
    "my_list6.pop(4)\n",
    "print(my_list6)"
   ]
  },
  {
   "cell_type": "markdown",
   "id": "bdd60af9-d583-4dd2-9582-cab44d4f675c",
   "metadata": {},
   "source": [
    "7. Check if an element exists in a list."
   ]
  },
  {
   "cell_type": "code",
   "execution_count": 101,
   "id": "0202e4e4-0d2c-47ef-b386-74c28d354cea",
   "metadata": {},
   "outputs": [],
   "source": [
    "def check_element(input_list, item):\n",
    "    if item in input_list:\n",
    "        print(\"The item is present in the input_list\")\n",
    "    else:\n",
    "        print(\"The item is not present in the input_list\")"
   ]
  },
  {
   "cell_type": "code",
   "execution_count": 102,
   "id": "a1f5c08f-9033-44d4-aa51-f3d8b18761d2",
   "metadata": {},
   "outputs": [
    {
     "name": "stdout",
     "output_type": "stream",
     "text": [
      "The item is not present in the input_list\n"
     ]
    }
   ],
   "source": [
    "check_element([1,2,3,4,6,7,8],77)"
   ]
  },
  {
   "cell_type": "markdown",
   "id": "949d21f4-72cb-48de-ae9d-87f80ba872c4",
   "metadata": {},
   "source": [
    "8. Find the index of the first occurrence of an element in a list."
   ]
  },
  {
   "cell_type": "code",
   "execution_count": 16,
   "id": "dd597c10-d539-47ab-94b9-3078f3734bc8",
   "metadata": {},
   "outputs": [
    {
     "name": "stdout",
     "output_type": "stream",
     "text": [
      "3\n"
     ]
    }
   ],
   "source": [
    "my_list8=[1,2,3,4,6,7,8]\n",
    "index=my_list8.index(4)\n",
    "print(index)"
   ]
  },
  {
   "cell_type": "markdown",
   "id": "fe4a27e1-4bc6-42fc-8f86-00fa1d90c20c",
   "metadata": {},
   "source": [
    "9. Count the occurrences of an element in a list."
   ]
  },
  {
   "cell_type": "code",
   "execution_count": 17,
   "id": "32a182a2-0958-401c-ab2b-41d06ecc1cde",
   "metadata": {},
   "outputs": [
    {
     "data": {
      "text/plain": [
       "3"
      ]
     },
     "execution_count": 17,
     "metadata": {},
     "output_type": "execute_result"
    }
   ],
   "source": [
    "my_list9=[1,2,3,4,5,6,7,8,9,1,6,4,8,9,3,5,7,1,8,9,6]\n",
    "my_list9.count(6)"
   ]
  },
  {
   "cell_type": "markdown",
   "id": "2638f810-f104-49f1-83f8-0ce232b6f669",
   "metadata": {},
   "source": [
    "10. Reverse the order of elements in a list."
   ]
  },
  {
   "cell_type": "code",
   "execution_count": 18,
   "id": "e8b61247-ef02-447e-883a-a205087884b0",
   "metadata": {},
   "outputs": [
    {
     "data": {
      "text/plain": [
       "[6, 9, 8, 1, 7, 5, 3, 9, 8, 4, 6, 1, 9, 8, 7, 6, 5, 4, 3, 2, 1]"
      ]
     },
     "execution_count": 18,
     "metadata": {},
     "output_type": "execute_result"
    }
   ],
   "source": [
    "my_list10=[1,2,3,4,5,6,7,8,9,1,6,4,8,9,3,5,7,1,8,9,6]\n",
    "my_list10[::-1]"
   ]
  },
  {
   "cell_type": "markdown",
   "id": "09d46e32-971e-4ced-829c-9f03f450ef63",
   "metadata": {},
   "source": [
    "11. Sort a list in ascending order."
   ]
  },
  {
   "cell_type": "code",
   "execution_count": 19,
   "id": "db0d31ae-e450-46be-ae96-f1cffdb3d5b9",
   "metadata": {},
   "outputs": [
    {
     "name": "stdout",
     "output_type": "stream",
     "text": [
      "[1, 1, 1, 2, 3, 3, 4, 4, 5, 5, 6, 6, 6, 7, 7, 8, 8, 8, 9, 9, 9]\n"
     ]
    }
   ],
   "source": [
    "my_list11=[1,2,3,4,5,6,7,8,9,1,6,4,8,9,3,5,7,1,8,9,6]\n",
    "my_list11.sort()\n",
    "print(my_list11)"
   ]
  },
  {
   "cell_type": "markdown",
   "id": "0bcf798f-abd9-4913-814e-15ace3ff9dcb",
   "metadata": {},
   "source": [
    "12. Sort a list in descending order."
   ]
  },
  {
   "cell_type": "code",
   "execution_count": 20,
   "id": "33383e48-6afd-4936-b7d2-d4ae05eea679",
   "metadata": {},
   "outputs": [
    {
     "data": {
      "text/plain": [
       "[9, 9, 9, 8, 8, 8, 7, 7, 6, 6, 6, 5, 5, 4, 4, 3, 3, 2, 1, 1, 1]"
      ]
     },
     "execution_count": 20,
     "metadata": {},
     "output_type": "execute_result"
    }
   ],
   "source": [
    "my_list12=[1,2,3,4,5,6,7,8,9,1,6,4,8,9,3,5,7,1,8,9,6]\n",
    "my_list12.sort()\n",
    "my_list12[::-1]\n"
   ]
  },
  {
   "cell_type": "markdown",
   "id": "a90b4deb-7c3d-4fa0-8a1a-a6d6e0d16068",
   "metadata": {},
   "source": [
    "13. Create a list of even numbers from 1 to 20."
   ]
  },
  {
   "cell_type": "code",
   "execution_count": 109,
   "id": "68d9fc7f-08e5-4050-a188-20c32d6b028b",
   "metadata": {},
   "outputs": [
    {
     "name": "stdout",
     "output_type": "stream",
     "text": [
      "[2, 4, 6, 8, 10, 12, 14, 16, 18, 20]\n"
     ]
    }
   ],
   "source": [
    "even_numbers=[]\n",
    "for i in range(1,21):\n",
    "    if i%2==0:\n",
    "        even_numbers.append(i)\n",
    "print(even_numbers)\n"
   ]
  },
  {
   "cell_type": "markdown",
   "id": "0d940a8c-ac09-4c55-a2a2-89fa9a18ce99",
   "metadata": {},
   "source": [
    "14. Create a list of odd numbers from 1 to 20."
   ]
  },
  {
   "cell_type": "code",
   "execution_count": 110,
   "id": "b74a8669-4381-4a17-ae75-4e615ee98e96",
   "metadata": {},
   "outputs": [
    {
     "name": "stdout",
     "output_type": "stream",
     "text": [
      "[1, 3, 5, 7, 9, 11, 13, 15, 17, 19]\n"
     ]
    }
   ],
   "source": [
    "odd_numbers=[]\n",
    "for i in range(1,21):\n",
    "    if i%2!=0:\n",
    "        odd_numbers.append(i)\n",
    "print(odd_numbers)"
   ]
  },
  {
   "cell_type": "markdown",
   "id": "a9428a06-8412-4d6a-a75d-63b04438a982",
   "metadata": {},
   "source": [
    "15. Find the sum of all elements in a list."
   ]
  },
  {
   "cell_type": "code",
   "execution_count": 21,
   "id": "2343334b-c112-43e3-a66b-d3c02325c63e",
   "metadata": {},
   "outputs": [
    {
     "name": "stdout",
     "output_type": "stream",
     "text": [
      "112\n"
     ]
    }
   ],
   "source": [
    "my_list15=[1,2,3,4,5,6,7,8,9,1,6,4,8,9,3,5,7,1,8,9,6]\n",
    "total_sum=sum(my_list15)\n",
    "print(total_sum)"
   ]
  },
  {
   "cell_type": "markdown",
   "id": "8245bf10-efc0-48f0-9f75-91af4c9cf3b0",
   "metadata": {},
   "source": [
    "16. Find the maximum value in a list."
   ]
  },
  {
   "cell_type": "code",
   "execution_count": 22,
   "id": "24e8f756-ab03-4a8a-bf3e-80186b04f486",
   "metadata": {},
   "outputs": [
    {
     "name": "stdout",
     "output_type": "stream",
     "text": [
      "9\n"
     ]
    }
   ],
   "source": [
    "my_list16=[1,2,3,4,5,6,7,8,9,1,6,4,8,9,3,5,7,1,8,9,6]\n",
    "maximum_value=max(my_list15)\n",
    "print(maximum_value)"
   ]
  },
  {
   "cell_type": "markdown",
   "id": "34661b76-00b5-4013-8d63-058b0c10c524",
   "metadata": {},
   "source": [
    "17. Find the minimum value in a list."
   ]
  },
  {
   "cell_type": "code",
   "execution_count": 23,
   "id": "b75ba1b1-ece2-4b76-9428-6f1da41eab4e",
   "metadata": {},
   "outputs": [
    {
     "name": "stdout",
     "output_type": "stream",
     "text": [
      "1\n"
     ]
    }
   ],
   "source": [
    "my_list17=[1,2,3,4,5,6,7,8,9,1,6,4,8,9,3,5,7,1,8,9,6]\n",
    "minimum_value=min(my_list17)\n",
    "print(minimum_value)"
   ]
  },
  {
   "cell_type": "markdown",
   "id": "b00340f2-f287-4832-b971-e3fd8fa99edc",
   "metadata": {},
   "source": [
    "18. Create a list of squares of numbers from 1 to 10."
   ]
  },
  {
   "cell_type": "code",
   "execution_count": 112,
   "id": "69d407eb-1939-4ec3-8e53-6739594d652d",
   "metadata": {},
   "outputs": [
    {
     "name": "stdout",
     "output_type": "stream",
     "text": [
      "[1, 4, 9, 16, 25, 36, 49, 64, 81, 100]\n"
     ]
    }
   ],
   "source": [
    "square_no=[]\n",
    "for i in range(1,11):\n",
    "    a=i*i\n",
    "    square_no.append(a)\n",
    "print(square_no)"
   ]
  },
  {
   "cell_type": "markdown",
   "id": "354957ce-d3a2-48a6-a7d1-56dec8f22b02",
   "metadata": {},
   "source": [
    "19. Create a list of random numbers."
   ]
  },
  {
   "cell_type": "code",
   "execution_count": 113,
   "id": "143bd3c3-66e0-4384-8b64-bbd65b03dbd1",
   "metadata": {},
   "outputs": [
    {
     "name": "stdout",
     "output_type": "stream",
     "text": [
      "[23, 85, 70, 32, 100, 87, 10, 7, 42, 59, 80, 66, 65, 52, 50, 59, 77, 7, 9, 67, 3, 87, 93, 13, 28, 78, 76, 75, 13, 16, 55, 70, 70, 22, 68, 11, 71, 85, 13, 49, 20, 48, 63, 14, 66, 38, 71, 6, 20, 28]\n"
     ]
    }
   ],
   "source": [
    "import random\n",
    "random_integers=[random.randint(1,100) for i in range(1,51)]\n",
    "print(random_integers)"
   ]
  },
  {
   "cell_type": "markdown",
   "id": "867eab1f-ca53-4082-8be3-1526b5e213ea",
   "metadata": {},
   "source": [
    "20. Remove duplicates from a list."
   ]
  },
  {
   "cell_type": "code",
   "execution_count": 116,
   "id": "f5806688-f9ce-43fd-a66b-3368d15051b4",
   "metadata": {},
   "outputs": [
    {
     "name": "stdout",
     "output_type": "stream",
     "text": [
      "[3, 6, 7, 9, 10, 11, 13, 14, 16, 20, 22, 23, 28, 32, 38, 42, 48, 49, 50, 52, 55, 59, 63, 65, 66, 67, 68, 70, 71, 75, 76, 77, 78, 80, 85, 87, 93, 100]\n"
     ]
    }
   ],
   "source": [
    "my_list=[23, 85, 70, 32, 100, 87, 10, 7, 42, 59, 80, 66, 65, 52, 50, 59, 77, 7, 9, 67, 3, 87, 93, 13, 28, 78, 76, 75, 13, 16, 55, 70, 70, 22, 68, 11, 71, 85, 13, 49, 20, 48, 63, 14, 66, 38, 71, 6, 20, 28]\n",
    "unq_list=list(set(my_list))\n",
    "print(unq_list)"
   ]
  },
  {
   "cell_type": "markdown",
   "id": "81020d26-a789-4443-90cd-6bcc9eb9903e",
   "metadata": {},
   "source": [
    "21. Find the common elements between two lists."
   ]
  },
  {
   "cell_type": "code",
   "execution_count": 120,
   "id": "06f27f1d-0473-4efb-8cd6-e32a82fc7ca5",
   "metadata": {},
   "outputs": [
    {
     "name": "stdout",
     "output_type": "stream",
     "text": [
      "[3, 4, 5]\n"
     ]
    }
   ],
   "source": [
    "list1=[3, 4, 5, 6, 7]\n",
    "list2=[1, 2, 3, 4, 5]\n",
    "common_e=[]\n",
    "for l in list1:\n",
    "    if l in list2:\n",
    "        common_e.append(l)\n",
    "print(common_e)"
   ]
  },
  {
   "cell_type": "markdown",
   "id": "1aecca40-be54-452e-9ff4-3d07fc1f8079",
   "metadata": {},
   "source": [
    "22. Find the difference between two lists."
   ]
  },
  {
   "cell_type": "code",
   "execution_count": 126,
   "id": "f65a6fd0-3cd9-40ce-9503-ebb46aaad483",
   "metadata": {},
   "outputs": [
    {
     "name": "stdout",
     "output_type": "stream",
     "text": [
      "[6, 7]\n"
     ]
    }
   ],
   "source": [
    "list1=[3, 4, 5, 6, 7]\n",
    "list2=[1, 2, 3, 4, 5]\n",
    "diff=list(set(list1).difference(list2))\n",
    "print(diff)"
   ]
  },
  {
   "cell_type": "markdown",
   "id": "91822b70-9ae1-454c-ab4a-e026f4d81cfd",
   "metadata": {},
   "source": [
    "23. Merge two lists."
   ]
  },
  {
   "cell_type": "code",
   "execution_count": 128,
   "id": "5f6f889f-50e3-4ec5-8ce4-d515237e4711",
   "metadata": {},
   "outputs": [
    {
     "name": "stdout",
     "output_type": "stream",
     "text": [
      "[3, 4, 5, 6, 7, 1, 2, 3, 4, 5]\n"
     ]
    }
   ],
   "source": [
    "list1=[3, 4, 5, 6, 7]\n",
    "list2=[1, 2, 3, 4, 5]\n",
    "merge=list1+list2\n",
    "print(merge)"
   ]
  },
  {
   "cell_type": "markdown",
   "id": "c8900bf3-6179-49fa-8ee4-d4f105585fd4",
   "metadata": {},
   "source": [
    "24. Multiply all elements in a list by 2."
   ]
  },
  {
   "cell_type": "code",
   "execution_count": 130,
   "id": "2b7a1562-2284-4c1d-ba4e-838ed81052ff",
   "metadata": {},
   "outputs": [
    {
     "name": "stdout",
     "output_type": "stream",
     "text": [
      "[6, 8, 10, 12, 14]\n"
     ]
    }
   ],
   "source": [
    "list1=[3, 4, 5, 6, 7]\n",
    "mul_list=[]\n",
    "for t in list1:\n",
    "    x=t*2\n",
    "    mul_list.append(x)\n",
    "print(mul_list)"
   ]
  },
  {
   "cell_type": "markdown",
   "id": "edc641b0-c552-4047-9793-14306f585ce8",
   "metadata": {},
   "source": [
    "25. Filter out all even numbers from a list."
   ]
  },
  {
   "cell_type": "code",
   "execution_count": 132,
   "id": "f292ee44-39c4-41d0-94d8-24ed6f9804b1",
   "metadata": {},
   "outputs": [
    {
     "name": "stdout",
     "output_type": "stream",
     "text": [
      "[3, 5, 7, 1, 3, 5]\n"
     ]
    }
   ],
   "source": [
    "list14=[3, 4, 5, 6, 7, 1, 2, 3, 4, 5]\n",
    "even_no=[]\n",
    "for e in list14:\n",
    "    if e%2!=0:\n",
    "        even_no.append(e)\n",
    "print(even_no)\n",
    "    "
   ]
  },
  {
   "cell_type": "markdown",
   "id": "88d9a06c-fd89-4719-93b6-d178e8ee59ee",
   "metadata": {},
   "source": [
    "26. Convert a list of strings to a list of integers."
   ]
  },
  {
   "cell_type": "code",
   "execution_count": 136,
   "id": "e1e63c90-5f23-42f2-bda5-1f4cf71061c3",
   "metadata": {},
   "outputs": [
    {
     "name": "stdout",
     "output_type": "stream",
     "text": [
      "[10, 20, 30, 40, 50]\n"
     ]
    }
   ],
   "source": [
    "string_list=[\"10\", \"20\", \"30\", \"40\", \"50\"]\n",
    "integer_list=[]\n",
    "for s in string_list:\n",
    "    i=int(s)\n",
    "    integer_list.append(i)\n",
    "print(integer_list)\n",
    "    "
   ]
  },
  {
   "cell_type": "markdown",
   "id": "c6bbceb5-0501-4346-9866-86cfe65f9271",
   "metadata": {},
   "source": [
    "27. Convert a list of integers to a list of strings."
   ]
  },
  {
   "cell_type": "code",
   "execution_count": 139,
   "id": "e00d57b5-9abb-4143-a5fa-bc8284a11dc7",
   "metadata": {},
   "outputs": [
    {
     "name": "stdout",
     "output_type": "stream",
     "text": [
      "['10', '20', '30', '40', '50']\n"
     ]
    }
   ],
   "source": [
    "integer_list=[10, 20, 30, 40, 50]\n",
    "string_list=[]\n",
    "for s in integer_list:\n",
    "    i=str(s)\n",
    "    string_list.append(i)\n",
    "print(string_list)"
   ]
  },
  {
   "cell_type": "markdown",
   "id": "06deeb23-e6f3-4f07-abb7-c956dc8ee43e",
   "metadata": {},
   "source": [
    "28. Flatten a nested list."
   ]
  },
  {
   "cell_type": "code",
   "execution_count": 140,
   "id": "8cfe1ca4-f9ec-4ba0-8615-f53fc5d64885",
   "metadata": {},
   "outputs": [
    {
     "name": "stdout",
     "output_type": "stream",
     "text": [
      "[1, 2, 3, 4, 5, 6, 7, 8, 9]\n"
     ]
    }
   ],
   "source": [
    "nested_list = [[1, 2, 3], [4, 5], [6, 7, 8, 9]]\n",
    "flattened=[]\n",
    "for n in nested_list:\n",
    "    if isinstance(n,list):\n",
    "        flattened.extend(n)\n",
    "    else:\n",
    "        flattened.append(n)\n",
    "print(flattened)\n",
    "        "
   ]
  },
  {
   "cell_type": "markdown",
   "id": "a9b14cf7-1070-4d51-97d9-6f573b81823f",
   "metadata": {},
   "source": [
    "29. Create a list of the first 10 Fibonacci numbers."
   ]
  },
  {
   "cell_type": "code",
   "execution_count": 152,
   "id": "87eb94ba-0f26-40ab-b6dd-7cdd320138ac",
   "metadata": {},
   "outputs": [],
   "source": [
    "def gen_fib(n):\n",
    "    fib_list=[0,1]\n",
    "    for f in range(2,n):\n",
    "        nf= fib_list[f-1] + fib_list[f-2]\n",
    "        fib_list.append(nf)\n",
    "    return fib_list\n",
    "    \n",
    "    \n",
    "    \n",
    "\n",
    "\n"
   ]
  },
  {
   "cell_type": "code",
   "execution_count": 154,
   "id": "f7ba05e8-3fa1-4129-813e-52bf2d022bb4",
   "metadata": {},
   "outputs": [
    {
     "data": {
      "text/plain": [
       "[0, 1, 1, 2, 3, 5, 8, 13, 21, 34]"
      ]
     },
     "execution_count": 154,
     "metadata": {},
     "output_type": "execute_result"
    }
   ],
   "source": [
    "gen_fib(10)"
   ]
  },
  {
   "cell_type": "markdown",
   "id": "7ec438c9-8eba-4e3e-8f75-2345125da7d7",
   "metadata": {},
   "source": [
    "30. Check if a list is sorted."
   ]
  },
  {
   "cell_type": "code",
   "execution_count": 13,
   "id": "06a2142f-4aad-451a-b8dd-a57d67abe68c",
   "metadata": {},
   "outputs": [],
   "source": [
    "def asc_sorted_list(lst):\n",
    "    for i in range(1, len(lst)):\n",
    "        if lst[i] < lst[i-1]:\n",
    "            return True\n",
    "    return False\n",
    "   "
   ]
  },
  {
   "cell_type": "code",
   "execution_count": 14,
   "id": "7c5d0e55-7dad-439e-8444-87f6850c901f",
   "metadata": {},
   "outputs": [
    {
     "data": {
      "text/plain": [
       "False"
      ]
     },
     "execution_count": 14,
     "metadata": {},
     "output_type": "execute_result"
    }
   ],
   "source": [
    "asc_sorted_list([10, 20, 30, 40, 50])"
   ]
  },
  {
   "cell_type": "markdown",
   "id": "8c3f3a28-1a69-4f3a-aeb6-4708ba7951af",
   "metadata": {},
   "source": [
    "31. Rotate a list to the left by `n` positions."
   ]
  },
  {
   "cell_type": "code",
   "execution_count": 20,
   "id": "169a74c2-a1b0-4018-956d-43a9f9f6e6b4",
   "metadata": {},
   "outputs": [
    {
     "data": {
      "text/plain": [
       "[3, 4, 5, 6, 1, 2]"
      ]
     },
     "execution_count": 20,
     "metadata": {},
     "output_type": "execute_result"
    }
   ],
   "source": [
    "def rotate(lst,n):\n",
    "    n=n%len(lst)\n",
    "    rotated_list = lst[n:]+lst[:n]\n",
    "    return rotated_list \n",
    "rotate([1, 2, 3, 4, 5, 6],2)"
   ]
  },
  {
   "cell_type": "markdown",
   "id": "925c825e-b99b-4e2b-9c4b-1fab1e49e740",
   "metadata": {},
   "source": [
    "32. Rotate a list to the right by n positions."
   ]
  },
  {
   "cell_type": "code",
   "execution_count": 24,
   "id": "63a27788-9ee7-401b-8ccf-48baa92800b9",
   "metadata": {},
   "outputs": [
    {
     "data": {
      "text/plain": [
       "[5, 6, 1, 2, 3, 4]"
      ]
     },
     "execution_count": 24,
     "metadata": {},
     "output_type": "execute_result"
    }
   ],
   "source": [
    "def rotate_to_right(lst,n):\n",
    "    n=n%len(lst)\n",
    "    rotated = lst[-n:]+lst[:-n]\n",
    "    return rotated\n",
    "\n",
    "rotate_to_right([1, 2, 3, 4, 5, 6],2)"
   ]
  },
  {
   "cell_type": "markdown",
   "id": "48795df9-2b04-4dda-83d1-f342bd916c6d",
   "metadata": {},
   "source": [
    "33. Create a list of prime numbers up to 50."
   ]
  },
  {
   "cell_type": "code",
   "execution_count": 33,
   "id": "9e11a317-d683-472b-91bc-45a4bc696177",
   "metadata": {},
   "outputs": [
    {
     "name": "stdout",
     "output_type": "stream",
     "text": [
      "[2, 3, 5, 7, 11, 13, 17, 19, 23, 29, 31, 37, 41, 43, 47]\n"
     ]
    }
   ],
   "source": [
    "def is_prime(num):\n",
    "    if num<=1:\n",
    "        return False\n",
    "    if num<=3:\n",
    "        return True\n",
    "    if num%2 ==0 or num%3==0:\n",
    "        return False\n",
    "    i=5\n",
    "    while i*i<=num:\n",
    "        if num%i==0 or num%(i+2) == 0:\n",
    "            return False\n",
    "        i+=6\n",
    "    return True\n",
    "prime_lst=[]\n",
    "for i in range (0,51):\n",
    "    if is_prime(i):\n",
    "        prime_lst.append(i)\n",
    "\n",
    "print(prime_lst)"
   ]
  },
  {
   "cell_type": "markdown",
   "id": "bab5215f-a1ec-4742-8155-cac7f4bcc8ef",
   "metadata": {},
   "source": [
    "34. Split a list into chunks of size n."
   ]
  },
  {
   "cell_type": "code",
   "execution_count": 6,
   "id": "8744e6c6-278e-420b-a83f-4f961ef6adf9",
   "metadata": {},
   "outputs": [
    {
     "data": {
      "text/plain": [
       "[[1, 2, 3], [4, 5, 6], [7, 8, 9], [10]]"
      ]
     },
     "execution_count": 6,
     "metadata": {},
     "output_type": "execute_result"
    }
   ],
   "source": [
    "def split_in_chunks(lst,n):\n",
    "    chunks=[]\n",
    "    for i in range(0,len(lst),n):\n",
    "        a = lst[i:i+n]\n",
    "        chunks.append(a)\n",
    "    return chunks\n",
    "\n",
    "\n",
    "split_in_chunks([1, 2, 3, 4, 5, 6, 7, 8, 9, 10],3)"
   ]
  },
  {
   "cell_type": "markdown",
   "id": "71bd981f-051b-42e8-97fb-cc100ca382c1",
   "metadata": {},
   "source": [
    "35. Find the second largest number in a list"
   ]
  },
  {
   "cell_type": "code",
   "execution_count": 7,
   "id": "b117ca4a-686a-477e-97e1-da666372be59",
   "metadata": {},
   "outputs": [
    {
     "data": {
      "text/plain": [
       "25"
      ]
     },
     "execution_count": 7,
     "metadata": {},
     "output_type": "execute_result"
    }
   ],
   "source": [
    "def second_largest(lst):\n",
    "    sorted_list= sorted(set(lst))\n",
    "    if len(sorted_list)>=2:\n",
    "        return sorted_list[-2]\n",
    "    else:\n",
    "        print(\"The list doesn't have sufficient numbers\")\n",
    "\n",
    "second_largest([10, 5, 20, 15, 30, 25])\n",
    "    "
   ]
  },
  {
   "cell_type": "markdown",
   "id": "1fc15c2a-0833-441c-b672-3c17ea7b77a0",
   "metadata": {},
   "source": [
    "36. Replace every element in a list with its square."
   ]
  },
  {
   "cell_type": "code",
   "execution_count": 9,
   "id": "09997f12-ed3e-42ed-8b36-637adb8b15dd",
   "metadata": {},
   "outputs": [
    {
     "data": {
      "text/plain": [
       "[4, 16, 36, 64, 100]"
      ]
     },
     "execution_count": 9,
     "metadata": {},
     "output_type": "execute_result"
    }
   ],
   "source": [
    "def replace_with_sq2(lst):\n",
    "    empty=[]\n",
    "    for i in lst:\n",
    "        a=i*i\n",
    "        empty.append(a)\n",
    "    return empty\n",
    "\n",
    "replace_with_sq2([2, 4, 6, 8, 10])"
   ]
  },
  {
   "cell_type": "markdown",
   "id": "86f6a929-72af-43d6-b4f3-dfea129be54b",
   "metadata": {},
   "source": [
    "37. Convert a list to a dictionary where list elements become keys and their indices become values."
   ]
  },
  {
   "cell_type": "code",
   "execution_count": 14,
   "id": "18a36f65-3547-483b-8a89-7ed8934c501b",
   "metadata": {},
   "outputs": [
    {
     "data": {
      "text/plain": [
       "{'apple': 0, 'banana': 1, 'orange': 2, 'grape': 3}"
      ]
     },
     "execution_count": 14,
     "metadata": {},
     "output_type": "execute_result"
    }
   ],
   "source": [
    "def convert_to_dict(lst):\n",
    "    empty_dict={}\n",
    "    for index, element in enumerate(lst):\n",
    "        empty_dict[element]=index\n",
    "    return empty_dict\n",
    "\n",
    "\n",
    "convert_to_dict(['apple', 'banana', 'orange', 'grape'])\n",
    "        "
   ]
  },
  {
   "cell_type": "markdown",
   "id": "0a97437d-dec0-4e36-9fd7-e475d5b70905",
   "metadata": {},
   "source": [
    "38. Shuffle the elements of a list randomly."
   ]
  },
  {
   "cell_type": "code",
   "execution_count": 18,
   "id": "d7237703-320d-4642-b8bd-e3034fc684cf",
   "metadata": {},
   "outputs": [
    {
     "data": {
      "text/plain": [
       "[9, 1, 4, 2, 7, 3, 10, 5, 8, 6]"
      ]
     },
     "execution_count": 18,
     "metadata": {},
     "output_type": "execute_result"
    }
   ],
   "source": [
    "import random\n",
    "def shuffle_random(lst):\n",
    "    random.shuffle(lst)\n",
    "    return lst\n",
    "\n",
    "shuffle_random([1, 2, 3, 4, 5, 6, 7, 8, 9, 10])"
   ]
  },
  {
   "cell_type": "markdown",
   "id": "f95e1e4d-0fa5-439d-9738-48e2d93178e3",
   "metadata": {},
   "source": [
    "39. Create a list of the first 10 factorial numbers"
   ]
  },
  {
   "cell_type": "code",
   "execution_count": 21,
   "id": "8d8c5d61-3e86-4678-a42b-bd4c01ad8d05",
   "metadata": {},
   "outputs": [
    {
     "name": "stdout",
     "output_type": "stream",
     "text": [
      "[1, 1, 2, 6, 24, 120, 720, 5040, 40320, 362880]\n"
     ]
    }
   ],
   "source": [
    "def factorial(n):\n",
    "    if n==0 or n==1:\n",
    "        return 1\n",
    "    else: \n",
    "        return n*factorial(n-1)\n",
    "\n",
    "lst=[]\n",
    "for i in range(10):\n",
    "    a=factorial(i)\n",
    "    lst.append(a)\n",
    "\n",
    "print(lst)"
   ]
  },
  {
   "cell_type": "markdown",
   "id": "488b38d7-ab7c-4402-a1a7-9ae97deb456e",
   "metadata": {},
   "source": [
    "40. Check if two lists have at least one element in common."
   ]
  },
  {
   "cell_type": "code",
   "execution_count": 22,
   "id": "db770a34-9e60-4d90-aae7-ab22a002a8fd",
   "metadata": {},
   "outputs": [
    {
     "name": "stdout",
     "output_type": "stream",
     "text": [
      "Has a common element\n"
     ]
    }
   ],
   "source": [
    "def common_element(lst1, lst2):\n",
    "    for i in lst1:\n",
    "        if i in lst2:\n",
    "            return True\n",
    "    return False\n",
    "\n",
    "if common_element([1, 2, 3, 4, 5], [4, 5, 6, 7, 8]):\n",
    "    print(\"Has a common element\")\n",
    "\n",
    "else:\n",
    "    print(\"doesn't have a common elemet\")\n",
    "    "
   ]
  },
  {
   "cell_type": "markdown",
   "id": "4197af86-554f-405c-afbd-d1924811f838",
   "metadata": {},
   "source": [
    "41. Remove all elements from a list."
   ]
  },
  {
   "cell_type": "code",
   "execution_count": 24,
   "id": "e3403d12-83f7-4007-8e59-ce0166fe5641",
   "metadata": {},
   "outputs": [
    {
     "name": "stdout",
     "output_type": "stream",
     "text": [
      "[]\n"
     ]
    }
   ],
   "source": [
    "lst3=[5,6,8,25,8,9,654,84,64,54,48]\n",
    "lst3.clear()\n",
    "print(lst3)"
   ]
  },
  {
   "cell_type": "markdown",
   "id": "acad118b-0aa4-4382-9b7d-99964f7c1921",
   "metadata": {},
   "source": [
    "42. Replace negative numbers in a list with 0."
   ]
  },
  {
   "cell_type": "code",
   "execution_count": 27,
   "id": "214960b6-eaa0-425f-8749-887713b3e33f",
   "metadata": {},
   "outputs": [
    {
     "name": "stdout",
     "output_type": "stream",
     "text": [
      "[10, 0, 20, 0, 30, 0]\n"
     ]
    }
   ],
   "source": [
    "lst4= [10, -5, 20, -15, 30, -25]\n",
    "for i in range(len(lst4)):\n",
    "    if lst4[i]<0:\n",
    "        lst4[i]=0\n",
    "    \n",
    "print(lst4)"
   ]
  },
  {
   "cell_type": "markdown",
   "id": "def49981-57cf-43ef-ba7f-3562a2639402",
   "metadata": {},
   "source": [
    "43. Convert a string into a list of words."
   ]
  },
  {
   "cell_type": "code",
   "execution_count": 48,
   "id": "7d552363-d9c4-45db-b35d-50177a300bb0",
   "metadata": {},
   "outputs": [
    {
     "data": {
      "text/plain": [
       "['Hello,', 'this', 'is', 'a', 'sample', 'sentence.']"
      ]
     },
     "execution_count": 48,
     "metadata": {},
     "output_type": "execute_result"
    }
   ],
   "source": [
    "def convert_to_lst(input_string):\n",
    "    list=input_string.split()\n",
    "    return list\n",
    "\n",
    "\n",
    "\n",
    "convert_to_lst(\"Hello, this is a sample sentence.\")    "
   ]
  },
  {
   "cell_type": "markdown",
   "id": "61ef68e9-4d2b-42c2-a661-ab029120e931",
   "metadata": {},
   "source": [
    "44. Convert a list of words into a string."
   ]
  },
  {
   "cell_type": "code",
   "execution_count": 32,
   "id": "5da8d9c7-31f8-4335-860a-c5d3c6fc6e36",
   "metadata": {},
   "outputs": [
    {
     "data": {
      "text/plain": [
       "'Hello, this is a sample sentence.'"
      ]
     },
     "execution_count": 32,
     "metadata": {},
     "output_type": "execute_result"
    }
   ],
   "source": [
    "def convert_to_string(input_list):\n",
    "    string=' '.join(input_list)\n",
    "    return string\n",
    "\n",
    "convert_to_string(['Hello,', 'this', 'is', 'a', 'sample', 'sentence.'])"
   ]
  },
  {
   "cell_type": "markdown",
   "id": "5bceb485-b914-4f12-b145-364a1f104f96",
   "metadata": {},
   "source": [
    "45. Create a list of the first n powers of 2."
   ]
  },
  {
   "cell_type": "code",
   "execution_count": 35,
   "id": "fff40970-5b4b-40b9-ad20-c7beb0a8ec08",
   "metadata": {},
   "outputs": [
    {
     "data": {
      "text/plain": [
       "[1, 2, 4, 8, 16]"
      ]
     },
     "execution_count": 35,
     "metadata": {},
     "output_type": "execute_result"
    }
   ],
   "source": [
    "def no_of_powers(n, p):\n",
    "    lst=[]\n",
    "    for i in range(p):\n",
    "        o=n**i\n",
    "        lst.append(o)\n",
    "\n",
    "    return lst\n",
    "\n",
    "no_of_powers(2,5)"
   ]
  },
  {
   "cell_type": "markdown",
   "id": "178276ec-ebf1-48a6-883c-2272fa53a977",
   "metadata": {},
   "source": [
    "46. Find the longest string in a list of strings."
   ]
  },
  {
   "cell_type": "code",
   "execution_count": 38,
   "id": "409d335f-d832-4a56-8260-69a728054160",
   "metadata": {},
   "outputs": [
    {
     "data": {
      "text/plain": [
       "'elderberry'"
      ]
     },
     "execution_count": 38,
     "metadata": {},
     "output_type": "execute_result"
    }
   ],
   "source": [
    "def longest_string(lst):\n",
    "    longest=\"\"\n",
    "    for i in lst:\n",
    "        if len(i)>len(longest):\n",
    "            longest=i\n",
    "    return longest\n",
    "\n",
    "longest_string([\"apple\", \"banana\", \"cherry\", \"date\", \"elderberry\"])\n"
   ]
  },
  {
   "cell_type": "markdown",
   "id": "c691d9d8-e618-432c-a97a-0a3973561488",
   "metadata": {},
   "source": [
    "47. Find the shortest string in a list of strings."
   ]
  },
  {
   "cell_type": "code",
   "execution_count": 42,
   "id": "a3d2b567-8c2b-4c56-ba8c-4e07bf40db34",
   "metadata": {},
   "outputs": [
    {
     "data": {
      "text/plain": [
       "'date'"
      ]
     },
     "execution_count": 42,
     "metadata": {},
     "output_type": "execute_result"
    }
   ],
   "source": [
    "def shortest_string(lst):\n",
    "    shortest=lst[0]\n",
    "    for i in lst:\n",
    "        if len(i) < len(shortest):\n",
    "            shortest=i\n",
    "    return shortest\n",
    "\n",
    "shortest_string([\"apple\", \"banana\", \"cherry\", \"date\", \"elderberry\"])"
   ]
  },
  {
   "cell_type": "markdown",
   "id": "90f4daff-fbee-4cae-9d62-9bb650865287",
   "metadata": {},
   "source": [
    "48. Create a list of the first n triangular numbers."
   ]
  },
  {
   "cell_type": "code",
   "execution_count": 47,
   "id": "b1ea2d2b-6b2c-4a51-9676-32a84257c9a6",
   "metadata": {},
   "outputs": [
    {
     "data": {
      "text/plain": [
       "[1, 3, 6, 10, 15, 21, 28, 36, 45, 55]"
      ]
     },
     "execution_count": 47,
     "metadata": {},
     "output_type": "execute_result"
    }
   ],
   "source": [
    "def triangular_numbers(n):\n",
    "    lst=[]\n",
    "    for i in range(1,n+1):\n",
    "        numbers=i*(i+1)//2\n",
    "        lst.append(numbers)\n",
    "    return lst\n",
    "\n",
    "triangular_numbers(10)"
   ]
  },
  {
   "cell_type": "markdown",
   "id": "94b06763-5893-461e-a6cf-8ed7879256d4",
   "metadata": {},
   "source": [
    "49. Check if a list contains another list as a subsequence."
   ]
  },
  {
   "cell_type": "code",
   "execution_count": 73,
   "id": "0942c2d6-ae72-4ea2-b674-00112548738c",
   "metadata": {},
   "outputs": [
    {
     "data": {
      "text/plain": [
       "True"
      ]
     },
     "execution_count": 73,
     "metadata": {},
     "output_type": "execute_result"
    }
   ],
   "source": [
    "def sub_of_lst(main_list, sub_list):\n",
    "    sub_length = len(sub_list)\n",
    "    for i in range((len(main_list)-sub_length)+1):\n",
    "        if main_list[i:i+sub_length] == sub_list:\n",
    "            return True\n",
    "    return False\n",
    "\n",
    "sub_of_lst([1, 2, 3, 4, 5, 6, 7, 8, 9, 10], [3, 4, 5])"
   ]
  },
  {
   "cell_type": "markdown",
   "id": "6e1812f5-ad8f-4e51-bb70-563596976998",
   "metadata": {},
   "source": [
    "50. Swap two elements in a list by their indices."
   ]
  },
  {
   "cell_type": "code",
   "execution_count": 50,
   "id": "46f84679-2ea3-4016-aeef-ed7e561c11a3",
   "metadata": {},
   "outputs": [
    {
     "data": {
      "text/plain": [
       "[1, 4, 3, 2, 5]"
      ]
     },
     "execution_count": 50,
     "metadata": {},
     "output_type": "execute_result"
    }
   ],
   "source": [
    "def swap_by_indices(lst, index1, index2):\n",
    "    temp=lst[index1]\n",
    "    lst[index1]=lst[index2]\n",
    "    lst[index2]=temp\n",
    "    return lst\n",
    "\n",
    "swap_by_indices([1, 2, 3, 4, 5], 1, 3)"
   ]
  },
  {
   "cell_type": "markdown",
   "id": "c09e95dd-d113-4547-9258-3aeb2c064cc5",
   "metadata": {},
   "source": [
    "Tuple Based Practice Problem :\n"
   ]
  },
  {
   "cell_type": "markdown",
   "id": "da037f75-7a4f-4363-b616-8ca0f9a0c473",
   "metadata": {},
   "source": [
    "1. Create a tuple with integers from 1 to 5."
   ]
  },
  {
   "cell_type": "code",
   "execution_count": 24,
   "id": "7fa6a759-5f3b-4bdc-b58b-99b0d8e97916",
   "metadata": {},
   "outputs": [
    {
     "name": "stdout",
     "output_type": "stream",
     "text": [
      "(1, 2, 3, 4, 5, 6, 7, 8)\n"
     ]
    }
   ],
   "source": [
    "my_tuple=(1,2,3,4,5,6,7,8)\n",
    "print(my_tuple)"
   ]
  },
  {
   "cell_type": "markdown",
   "id": "26e1f115-e139-451e-b697-61b3f0071488",
   "metadata": {},
   "source": [
    "2. Access the third element of a tuple."
   ]
  },
  {
   "cell_type": "code",
   "execution_count": 25,
   "id": "3a66b425-1b0b-4787-a437-94867aded775",
   "metadata": {},
   "outputs": [
    {
     "data": {
      "text/plain": [
       "3"
      ]
     },
     "execution_count": 25,
     "metadata": {},
     "output_type": "execute_result"
    }
   ],
   "source": [
    "my_tuple=(1,2,3,4,5,6,7,8)\n",
    "my_tuple[2]\n"
   ]
  },
  {
   "cell_type": "markdown",
   "id": "5ed5b942-f6e3-4e52-803b-e87a234c7247",
   "metadata": {},
   "source": [
    "3. Find the length of a tuple without using the `len()` function."
   ]
  },
  {
   "cell_type": "code",
   "execution_count": 51,
   "id": "1110147a-c322-4e36-978c-bdfa2f7ef664",
   "metadata": {},
   "outputs": [
    {
     "data": {
      "text/plain": [
       "5"
      ]
     },
     "execution_count": 51,
     "metadata": {},
     "output_type": "execute_result"
    }
   ],
   "source": [
    "def input_tuple(tup):\n",
    "    count=0\n",
    "    for i in tup:\n",
    "        count += 1\n",
    "    return count\n",
    "\n",
    "input_tuple((10, 20, 30, 40, 50))"
   ]
  },
  {
   "cell_type": "markdown",
   "id": "b6a69f2c-4b0a-463e-ab3b-963a5904898a",
   "metadata": {},
   "source": [
    "4. Count the occurrences of an element in a tuple."
   ]
  },
  {
   "cell_type": "code",
   "execution_count": 52,
   "id": "a7c57955-dbe4-4ba6-a029-6603e7e9d21c",
   "metadata": {},
   "outputs": [
    {
     "data": {
      "text/plain": [
       "3"
      ]
     },
     "execution_count": 52,
     "metadata": {},
     "output_type": "execute_result"
    }
   ],
   "source": [
    "def count_occurences(tup,n):\n",
    "    count=0\n",
    "    for i in tup:\n",
    "        if i==n:\n",
    "            count+=1\n",
    "    return count\n",
    "\n",
    "count_occurences((10, 20, 30, 20, 40, 50, 20), 20)"
   ]
  },
  {
   "cell_type": "markdown",
   "id": "8e9971f1-aa06-471a-b282-3155d761274b",
   "metadata": {},
   "source": [
    "5. Find the index of the first occurrence of an element in a tuple."
   ]
  },
  {
   "cell_type": "code",
   "execution_count": 2,
   "id": "4354f023-b6ed-47cc-a116-98c459a9aac8",
   "metadata": {},
   "outputs": [
    {
     "data": {
      "text/plain": [
       "1"
      ]
     },
     "execution_count": 2,
     "metadata": {},
     "output_type": "execute_result"
    }
   ],
   "source": [
    "def index_occurence(tup,element):\n",
    "    if element in tup:\n",
    "        index = tup.index(element)\n",
    "        return index\n",
    "\n",
    "\n",
    "\n",
    "\n",
    "index_occurence((10, 20, 30, 20, 40, 50), 20)            "
   ]
  },
  {
   "cell_type": "markdown",
   "id": "5c82f8ac-21d9-4094-aa0f-58e0d74589a7",
   "metadata": {},
   "source": [
    "6. Check if an element exists in a tuple."
   ]
  },
  {
   "cell_type": "code",
   "execution_count": 6,
   "id": "52218f5e-3cb0-4963-a8a3-afda06f6bc7d",
   "metadata": {},
   "outputs": [
    {
     "name": "stdout",
     "output_type": "stream",
     "text": [
      "The element is present in Tuple\n"
     ]
    }
   ],
   "source": [
    "my_tuple = (10, 20, 30, 20, 40, 50)\n",
    "element_to_check = 20\n",
    "if element_to_check in my_tuple:\n",
    "    print(\"The element is present in Tuple\")\n",
    "else:\n",
    "    print(\"The element is not present in the Tuple\")\n"
   ]
  },
  {
   "cell_type": "markdown",
   "id": "213591b8-3f5f-4383-9cca-9e5f5016758e",
   "metadata": {},
   "source": [
    "7. Convert a tuple to a list."
   ]
  },
  {
   "cell_type": "code",
   "execution_count": 26,
   "id": "1eca6ec1-bd80-454c-ba46-47ed217a9f56",
   "metadata": {},
   "outputs": [
    {
     "name": "stdout",
     "output_type": "stream",
     "text": [
      "[1, 2, 3, 4, 5, 6, 7, 8]\n"
     ]
    }
   ],
   "source": [
    "my_tuple=(1,2,3,4,5,6,7,8)\n",
    "my_list=list(my_tuple)\n",
    "print(my_list)"
   ]
  },
  {
   "cell_type": "markdown",
   "id": "4b08422a-c27c-48a0-a774-e6c3f69a0140",
   "metadata": {},
   "source": [
    "8. Convert a list to a tuple."
   ]
  },
  {
   "cell_type": "code",
   "execution_count": 27,
   "id": "5a148f55-7df9-4a54-bc4a-e4f4f6497f5b",
   "metadata": {},
   "outputs": [
    {
     "name": "stdout",
     "output_type": "stream",
     "text": [
      "(1, 2, 3, 4, 5, 6, 7, 8)\n"
     ]
    }
   ],
   "source": [
    "my_list=[1,2,3,4,5,6,7,8]\n",
    "my_tuple=tuple(my_list)\n",
    "print(my_tuple)"
   ]
  },
  {
   "cell_type": "markdown",
   "id": "6be9be66-b7d8-49c3-af69-5fcd09a77b6e",
   "metadata": {},
   "source": [
    "9. Unpack the elements of a tuple into variables."
   ]
  },
  {
   "cell_type": "code",
   "execution_count": 28,
   "id": "b1b47d88-4bc6-439f-a183-ded03d01ae54",
   "metadata": {},
   "outputs": [
    {
     "name": "stdout",
     "output_type": "stream",
     "text": [
      "var1: 1\n",
      "var2: 2\n",
      "var3: 3\n",
      "var4: 4\n",
      "var5: 5\n",
      "var6: 6\n",
      "var7: 7\n",
      "var8: 8\n"
     ]
    }
   ],
   "source": [
    "my_tuple=(1,2,3,4,5,6,7,8)\n",
    "var1, var2, var3, var4, var5, var6, var7, var8=my_tuple\n",
    "print(\"var1:\", var1)\n",
    "print(\"var2:\", var2)\n",
    "print(\"var3:\", var3)\n",
    "print(\"var4:\", var4)\n",
    "print(\"var5:\", var5)\n",
    "print(\"var6:\", var6)\n",
    "print(\"var7:\", var7)\n",
    "print(\"var8:\", var8)"
   ]
  },
  {
   "cell_type": "markdown",
   "id": "d26483c6-fa9a-4a3d-99d1-b5d8a92df8b0",
   "metadata": {},
   "source": [
    "10. Create a tuple of even numbers from 1 to 10."
   ]
  },
  {
   "cell_type": "code",
   "execution_count": 9,
   "id": "7e9781f1-dd4b-49aa-ab61-766eec38b90a",
   "metadata": {},
   "outputs": [
    {
     "name": "stdout",
     "output_type": "stream",
     "text": [
      "(1, 3, 5, 7, 9)\n"
     ]
    }
   ],
   "source": [
    "\n",
    "even_numbers = tuple(range(1,11,2))\n",
    "   \n",
    "print(even_numbers)"
   ]
  },
  {
   "cell_type": "markdown",
   "id": "0e3a31b9-1d17-4e5a-940e-498fd3ded7e4",
   "metadata": {},
   "source": [
    "11. Create a tuple of odd numbers from 1 to 10."
   ]
  },
  {
   "cell_type": "code",
   "execution_count": 12,
   "id": "03395d86-5120-4676-9d5d-465a405296f2",
   "metadata": {},
   "outputs": [
    {
     "name": "stdout",
     "output_type": "stream",
     "text": [
      "(2, 4, 6, 8, 10)\n"
     ]
    }
   ],
   "source": [
    "odd_numbers = tuple(range(2,11,2))\n",
    "print(odd_numbers)"
   ]
  },
  {
   "cell_type": "markdown",
   "id": "56b49f24-e591-427a-b1ef-5a2d68469b46",
   "metadata": {},
   "source": [
    "12. Concatenate two tuples."
   ]
  },
  {
   "cell_type": "code",
   "execution_count": 29,
   "id": "0e8bcacc-e12c-4b4c-bb7d-fd98ebd733d9",
   "metadata": {},
   "outputs": [
    {
     "data": {
      "text/plain": [
       "(1, 2, 3, 4, 5, 6, 7, 8, 9, 10, 11)"
      ]
     },
     "execution_count": 29,
     "metadata": {},
     "output_type": "execute_result"
    }
   ],
   "source": [
    "my_tuple=(1,2,3,4,5,6,7,8)\n",
    "tuple=(9,10,11)\n",
    "my_tuple + tuple"
   ]
  },
  {
   "cell_type": "markdown",
   "id": "c1534668-4fcd-433f-acea-55e81f21c5b9",
   "metadata": {},
   "source": [
    "13. Repeat a tuple three times."
   ]
  },
  {
   "cell_type": "code",
   "execution_count": 30,
   "id": "81673615-fe0a-420c-b02c-4d1258e298fb",
   "metadata": {},
   "outputs": [
    {
     "data": {
      "text/plain": [
       "(9, 10, 11, 9, 10, 11, 9, 10, 11)"
      ]
     },
     "execution_count": 30,
     "metadata": {},
     "output_type": "execute_result"
    }
   ],
   "source": [
    "tuple=(9,10,11)\n",
    "tuple*3"
   ]
  },
  {
   "cell_type": "markdown",
   "id": "9eab6e76-0082-41db-91e5-828dc00ca10c",
   "metadata": {},
   "source": [
    "14. Check if a tuple is empty."
   ]
  },
  {
   "cell_type": "code",
   "execution_count": 13,
   "id": "3ab114af-95a1-4843-8e6e-d4818f5fdffd",
   "metadata": {},
   "outputs": [
    {
     "name": "stdout",
     "output_type": "stream",
     "text": [
      "The empty_tuple is empty\n",
      "The non_empty_tuple is not empty\n"
     ]
    }
   ],
   "source": [
    "empty_tuple = ()\n",
    "non_empty_tuple = (9, 10, 11, 9, 10, 11, 9, 10, 11)\n",
    "\n",
    "if not empty_tuple:\n",
    "    print(\"The empty_tuple is empty\")\n",
    "else:\n",
    "    print(\"The non_empty_tuple is not empty\")\n",
    "\n",
    "if not non_empty_tuple:\n",
    "    print(\"The non_empty_tuple is empty\")\n",
    "else:\n",
    "    print(\"The non_empty_tuple is not empty\")"
   ]
  },
  {
   "cell_type": "markdown",
   "id": "b2c8c96c-6931-4e28-a018-bdb75acc14e0",
   "metadata": {},
   "source": [
    "15. Create a nested tuple."
   ]
  },
  {
   "cell_type": "code",
   "execution_count": 31,
   "id": "c5683350-5c62-4125-b4c0-77c092dc7cda",
   "metadata": {},
   "outputs": [
    {
     "name": "stdout",
     "output_type": "stream",
     "text": [
      "(1, 2, 3, 4, (True, False), 'Tuple')\n"
     ]
    }
   ],
   "source": [
    "nested_tuple=(1,2,3,4,(True, False),(\"Tuple\"))\n",
    "print(nested_tuple)"
   ]
  },
  {
   "cell_type": "markdown",
   "id": "739c2da9-3d3f-445e-9345-b0531e54266e",
   "metadata": {},
   "source": [
    "16. Access the first element of a nested tuple."
   ]
  },
  {
   "cell_type": "code",
   "execution_count": 32,
   "id": "2de4bc31-ecf2-4804-b5eb-95dd2ecaa3c6",
   "metadata": {},
   "outputs": [
    {
     "data": {
      "text/plain": [
       "1"
      ]
     },
     "execution_count": 32,
     "metadata": {},
     "output_type": "execute_result"
    }
   ],
   "source": [
    "nested_tuple=(1,2,3,4,(True, False),(\"Tuple\"))\n",
    "nested_tuple[0]\n"
   ]
  },
  {
   "cell_type": "markdown",
   "id": "c7d5cc29-d5c9-4e66-9754-d064e007a632",
   "metadata": {},
   "source": [
    "17. Create a tuple with a single element."
   ]
  },
  {
   "cell_type": "code",
   "execution_count": 33,
   "id": "fd6fa1dd-8a52-49e1-876a-1e135f9960a4",
   "metadata": {},
   "outputs": [
    {
     "name": "stdout",
     "output_type": "stream",
     "text": [
      "(2,)\n"
     ]
    }
   ],
   "source": [
    "single_tuple=(2,)\n",
    "print(single_tuple)"
   ]
  },
  {
   "cell_type": "markdown",
   "id": "f6376f3c-a2af-4107-a524-fd57afa8da37",
   "metadata": {},
   "source": [
    "18. Compare two tuples."
   ]
  },
  {
   "cell_type": "code",
   "execution_count": 2,
   "id": "1c87a27c-5692-4799-9318-0305e7f581a3",
   "metadata": {},
   "outputs": [
    {
     "name": "stdout",
     "output_type": "stream",
     "text": [
      "Are the two tuples equal False\n",
      "Are the two tuples unequal True\n",
      "Is tuple 1 greater than tuple2 False\n",
      "Is tuple1 greater than or equal to tuple2 False\n",
      "Is tuple1 less than tuple2 True\n",
      "Is tuple1 less than or equal to tuple2 True\n"
     ]
    }
   ],
   "source": [
    "tuple1 = (5,8,3)\n",
    "tuple2 = (7,9,2)\n",
    "\n",
    "print(\"Are the two tuples equal\", tuple1 == tuple2)\n",
    "print(\"Are the two tuples unequal\", tuple1 != tuple2)\n",
    "print(\"Is tuple 1 greater than tuple2\", tuple1 > tuple2)\n",
    "print(\"Is tuple1 greater than or equal to tuple2\", tuple1 >= tuple2)\n",
    "print(\"Is tuple1 less than tuple2\", tuple1 < tuple2)\n",
    "print(\"Is tuple1 less than or equal to tuple2\", tuple1 <= tuple2)"
   ]
  },
  {
   "cell_type": "markdown",
   "id": "8c680af1-e08f-43a7-8f98-d1062e5bffde",
   "metadata": {},
   "source": [
    "19. Delete a tuple."
   ]
  },
  {
   "cell_type": "code",
   "execution_count": 3,
   "id": "ecfdda2d-42e0-4c60-b69c-651d9a017259",
   "metadata": {},
   "outputs": [
    {
     "ename": "NameError",
     "evalue": "name 'tuple3' is not defined",
     "output_type": "error",
     "traceback": [
      "\u001b[1;31m---------------------------------------------------------------------------\u001b[0m",
      "\u001b[1;31mNameError\u001b[0m                                 Traceback (most recent call last)",
      "Cell \u001b[1;32mIn[3], line 4\u001b[0m\n\u001b[0;32m      1\u001b[0m tuple3 \u001b[38;5;241m=\u001b[39m (\u001b[38;5;241m1\u001b[39m,\u001b[38;5;241m5\u001b[39m,\u001b[38;5;241m9\u001b[39m,\u001b[38;5;241m8\u001b[39m,\u001b[38;5;241m6\u001b[39m,\u001b[38;5;241m4\u001b[39m)\n\u001b[0;32m      3\u001b[0m \u001b[38;5;28;01mdel\u001b[39;00m tuple3\n\u001b[1;32m----> 4\u001b[0m \u001b[38;5;28mprint\u001b[39m(\u001b[43mtuple3\u001b[49m)\n",
      "\u001b[1;31mNameError\u001b[0m: name 'tuple3' is not defined"
     ]
    }
   ],
   "source": [
    "tuple3 = (1,5,9,8,6,4)\n",
    "\n",
    "del tuple3\n",
    "print(tuple3)"
   ]
  },
  {
   "cell_type": "markdown",
   "id": "415adf91-c7d1-499b-b617-a26faf01ef03",
   "metadata": {},
   "source": [
    "20. Slice a tuple."
   ]
  },
  {
   "cell_type": "code",
   "execution_count": 4,
   "id": "8e80e802-fdc4-4dc3-ac31-cc39ac1c7596",
   "metadata": {},
   "outputs": [
    {
     "name": "stdout",
     "output_type": "stream",
     "text": [
      "(9, 8)\n"
     ]
    }
   ],
   "source": [
    "tuple4 = (1,5,9,8,6,4)\n",
    "\n",
    "sliced_tuple = tuple4[2:4]\n",
    "print(sliced_tuple)"
   ]
  },
  {
   "cell_type": "markdown",
   "id": "23b5f143-76b6-43be-9c74-f7f05db1b5ab",
   "metadata": {},
   "source": [
    "21. Find the maximum value in a tuple."
   ]
  },
  {
   "cell_type": "code",
   "execution_count": 5,
   "id": "19b79d04-ccbb-4380-b2a1-ecdda1f84935",
   "metadata": {},
   "outputs": [
    {
     "data": {
      "text/plain": [
       "9"
      ]
     },
     "execution_count": 5,
     "metadata": {},
     "output_type": "execute_result"
    }
   ],
   "source": [
    "tuple4 = (1,5,9,8,6,4)\n",
    "max(tuple4)"
   ]
  },
  {
   "cell_type": "markdown",
   "id": "c81fa20c-7f0d-4ef6-ad65-418b409ecf0d",
   "metadata": {},
   "source": [
    "22. Find the minimum value in a tuple.\n"
   ]
  },
  {
   "cell_type": "code",
   "execution_count": 6,
   "id": "189177e0-4ae9-4a54-8de0-92b663637de7",
   "metadata": {},
   "outputs": [
    {
     "data": {
      "text/plain": [
       "1"
      ]
     },
     "execution_count": 6,
     "metadata": {},
     "output_type": "execute_result"
    }
   ],
   "source": [
    "tuple4 = (1,5,9,8,6,4)\n",
    "min(tuple4)"
   ]
  },
  {
   "cell_type": "markdown",
   "id": "95b7953c-043a-435d-abe9-af395c721e95",
   "metadata": {},
   "source": [
    "23. Convert a string to a tuple of characters."
   ]
  },
  {
   "cell_type": "code",
   "execution_count": 9,
   "id": "5608d271-1e30-468a-ace9-74ca3b649f34",
   "metadata": {},
   "outputs": [
    {
     "name": "stdout",
     "output_type": "stream",
     "text": [
      "('H', 'e', 'l', 'l', 'o', ' ', 'W', 'o', 'r', 'l', 'd')\n"
     ]
    }
   ],
   "source": [
    "input_string = \"Hello World\"\n",
    "print(tuple(input_string))"
   ]
  },
  {
   "cell_type": "markdown",
   "id": "5176259f-9bc2-47ff-a916-620197156255",
   "metadata": {},
   "source": [
    "24. Convert a tuple of characters to a string."
   ]
  },
  {
   "cell_type": "code",
   "execution_count": 11,
   "id": "edcae537-64ce-43e9-af4b-63d385d005da",
   "metadata": {},
   "outputs": [
    {
     "name": "stdout",
     "output_type": "stream",
     "text": [
      "Hello World\n"
     ]
    }
   ],
   "source": [
    "mytuple = ('H', 'e', 'l', 'l', 'o', ' ', 'W', 'o', 'r', 'l', 'd')\n",
    "my_tuple = ''.join(mytuple)\n",
    "print(my_tuple)"
   ]
  },
  {
   "cell_type": "markdown",
   "id": "491d0c96-1b21-4601-90df-2e3f661424e2",
   "metadata": {},
   "source": [
    "25. Create a tuple from multiple data types."
   ]
  },
  {
   "cell_type": "code",
   "execution_count": 13,
   "id": "38794fd7-99c4-4d95-a94a-cdd9768e52f7",
   "metadata": {},
   "outputs": [
    {
     "name": "stdout",
     "output_type": "stream",
     "text": [
      "('Hello', 564, 654.6874, False, 0, 1)\n"
     ]
    }
   ],
   "source": [
    "tuple5 = (\"Hello\", 564, 654.6874, False, 0, 1)\n",
    "print(tuple5)"
   ]
  },
  {
   "cell_type": "markdown",
   "id": "1fd787d5-d4db-4591-889d-78a2deec258f",
   "metadata": {},
   "source": [
    "26. Check if two tuples are identical."
   ]
  },
  {
   "cell_type": "code",
   "execution_count": 15,
   "id": "9dc3b2d2-4390-46ed-aa60-1a8f6d268fa0",
   "metadata": {},
   "outputs": [
    {
     "name": "stdout",
     "output_type": "stream",
     "text": [
      "They are identical\n",
      "They are not identical\n"
     ]
    }
   ],
   "source": [
    "def check_identical_tup(tuple1, tuple2):\n",
    "    if tuple1 == tuple2:\n",
    "        print(\"They are identical\")\n",
    "    else:\n",
    "        print(\"They are not identical\")\n",
    "\n",
    "check_identical_tup((1, 2, 3), (1, 2, 3))\n",
    "check_identical_tup((1, 2, 3), (4, 5, 6))"
   ]
  },
  {
   "cell_type": "markdown",
   "id": "2fc21654-2fa7-41cc-9adc-c3d1905a0676",
   "metadata": {},
   "source": [
    "27. Sort the elements of a tuple."
   ]
  },
  {
   "cell_type": "code",
   "execution_count": 17,
   "id": "dcd33673-2002-4a30-8f59-68656736530c",
   "metadata": {},
   "outputs": [
    {
     "name": "stdout",
     "output_type": "stream",
     "text": [
      "(1, 2, 3, 5, 8)\n"
     ]
    }
   ],
   "source": [
    "my_tuple = (5, 2, 8, 1, 3)\n",
    "sorted_tuple = tuple(sorted(my_tuple))\n",
    "print(sorted_tuple)"
   ]
  },
  {
   "cell_type": "markdown",
   "id": "b4cbdaf2-ab6a-4a09-8c63-4c6ea9c55991",
   "metadata": {},
   "source": [
    "28. Convert a tuple of integers to a tuple of strings."
   ]
  },
  {
   "cell_type": "code",
   "execution_count": 20,
   "id": "e24e0872-e736-4987-996b-6d585c1f038c",
   "metadata": {},
   "outputs": [
    {
     "name": "stdout",
     "output_type": "stream",
     "text": [
      "('5', '2', '8', '1', '3')\n"
     ]
    }
   ],
   "source": [
    "mytuple = (5, 2, 8, 1, 3)\n",
    "my_tuple = tuple(map(str, mytuple)) \n",
    "print(my_tuple)"
   ]
  },
  {
   "cell_type": "markdown",
   "id": "f5e0c3b5-5bcd-4f76-b7ca-e5af2652f9fa",
   "metadata": {},
   "source": [
    "29. Convert a tuple of strings to a tuple of integers."
   ]
  },
  {
   "cell_type": "code",
   "execution_count": 23,
   "id": "b8c41014-4892-45da-8b03-acde95738cf1",
   "metadata": {},
   "outputs": [
    {
     "name": "stdout",
     "output_type": "stream",
     "text": [
      "(5, 2, 8, 1, 3)\n"
     ]
    }
   ],
   "source": [
    "tuple_integer = tuple(map(int, my_tuple))\n",
    "print(tuple_integer)"
   ]
  },
  {
   "cell_type": "markdown",
   "id": "93c90cdd-704a-481a-9020-5c2a5755bd4f",
   "metadata": {},
   "source": [
    "30. Merge two tuples."
   ]
  },
  {
   "cell_type": "code",
   "execution_count": 24,
   "id": "2ab5c478-20bc-41ec-ad39-acfa6dfbade0",
   "metadata": {},
   "outputs": [
    {
     "name": "stdout",
     "output_type": "stream",
     "text": [
      "(1, 2, 3, 4, 5, 6)\n"
     ]
    }
   ],
   "source": [
    "tuple1 = (1, 2, 3)\n",
    "tuple2 = (4, 5, 6)\n",
    "print(tuple1+tuple2)"
   ]
  },
  {
   "cell_type": "markdown",
   "id": "2f93b0bc-db03-4d24-9101-4b8604c0dba5",
   "metadata": {},
   "source": [
    "31. Flatten a nested tuple."
   ]
  },
  {
   "cell_type": "code",
   "execution_count": 29,
   "id": "93dcd849-52da-4fe9-8e26-b2afc680c492",
   "metadata": {},
   "outputs": [
    {
     "data": {
      "text/plain": [
       "(1, 2, 3, 4, 5, 6, 7, 8)"
      ]
     },
     "execution_count": 29,
     "metadata": {},
     "output_type": "execute_result"
    }
   ],
   "source": [
    "def flattened_tuple(nested_tuple):\n",
    "    flattened = []\n",
    "    for i in nested_tuple:\n",
    "        if isinstance(i, tuple):\n",
    "            flattened.extend(flattened_tuple(i))\n",
    "        else:\n",
    "            flattened.append(i)\n",
    "    return tuple(flattened)\n",
    "\n",
    "flattened_tuple(((1, 2), (3, 4, 5), (6, (7, 8))))"
   ]
  },
  {
   "cell_type": "markdown",
   "id": "2b4aad6d-68c1-4996-a05f-99c1be050a65",
   "metadata": {},
   "source": [
    "32. Create a tuple of the first 5 prime numbers."
   ]
  },
  {
   "cell_type": "code",
   "execution_count": 36,
   "id": "25db1a68-1504-458d-9f31-17b51e5f1863",
   "metadata": {},
   "outputs": [
    {
     "name": "stdout",
     "output_type": "stream",
     "text": [
      "(2, 3, 5, 7, 11)\n"
     ]
    }
   ],
   "source": [
    "prime=[]\n",
    "for i in range(50):\n",
    "    if is_prime(i):\n",
    "        prime.append(i)\n",
    "\n",
    "prime=prime[:5]\n",
    "\n",
    "print(tuple(prime))\n",
    "        "
   ]
  },
  {
   "cell_type": "markdown",
   "id": "cbf19897-c3d1-44dd-a61f-b809a312e4a3",
   "metadata": {},
   "source": [
    "33. Check if a tuple is a palindrome."
   ]
  },
  {
   "cell_type": "code",
   "execution_count": 37,
   "id": "4444cdca-9bc6-4052-a364-e54d00922878",
   "metadata": {},
   "outputs": [
    {
     "name": "stdout",
     "output_type": "stream",
     "text": [
      "palindrome_tuple is Palindrome True\n",
      "non_palindrome_tuple is Palindrome False\n"
     ]
    }
   ],
   "source": [
    "def is_palindrome(tup):\n",
    "    return tup == tup[::-1]\n",
    "\n",
    "palindrome_tuple = (1, 2, 3, 2, 1)\n",
    "non_palindrome_tuple = (1, 2, 3, 4, 5)\n",
    "\n",
    "is_palindrome1 = is_palindrome(palindrome_tuple)\n",
    "is_palindrome2 = is_palindrome(non_palindrome_tuple)\n",
    "\n",
    "print(\"palindrome_tuple is Palindrome\", is_palindrome1)\n",
    "print(\"non_palindrome_tuple is Palindrome\", is_palindrome2)"
   ]
  },
  {
   "cell_type": "markdown",
   "id": "66988f09-b64d-4365-8311-cd54f5709d27",
   "metadata": {},
   "source": [
    "34. Create a tuple of squares of numbers from 1 to 5."
   ]
  },
  {
   "cell_type": "code",
   "execution_count": 39,
   "id": "f5f2d31b-f32b-4fee-93ed-50d925dd831f",
   "metadata": {},
   "outputs": [
    {
     "data": {
      "text/plain": [
       "(1, 4, 9, 16, 25)"
      ]
     },
     "execution_count": 39,
     "metadata": {},
     "output_type": "execute_result"
    }
   ],
   "source": [
    "def sqr_num(m):\n",
    "    empty = []\n",
    "    for i in range(1,m+1):\n",
    "        a=i**2\n",
    "        empty.append(a)\n",
    "    return tuple(empty)\n",
    "\n",
    "    \n",
    "sqr_num(5)    "
   ]
  },
  {
   "cell_type": "markdown",
   "id": "fa1bd16b-3bc3-4f6b-87d9-3bdcdc6f7832",
   "metadata": {},
   "source": [
    "35. Filter out all even numbers from a tuple."
   ]
  },
  {
   "cell_type": "code",
   "execution_count": 40,
   "id": "272846b0-0b8e-4c1c-8ecb-c82e58437702",
   "metadata": {},
   "outputs": [
    {
     "name": "stdout",
     "output_type": "stream",
     "text": [
      "(2, 4, 6, 8, 10)\n"
     ]
    }
   ],
   "source": [
    "original_tuple = (1, 2, 3, 4, 5, 6, 7, 8, 9, 10)\n",
    "filtered_tuple = tuple(i for i in original_tuple if i%2 == 0)\n",
    "print(filtered_tuple)"
   ]
  },
  {
   "cell_type": "markdown",
   "id": "ec4a7d8b-8488-4f71-9f8b-f262607aa0fa",
   "metadata": {},
   "source": [
    "36. Multiply all elements in a tuple by 2."
   ]
  },
  {
   "cell_type": "code",
   "execution_count": 41,
   "id": "4494b732-2b10-4b96-9c68-ea2b5ae9f844",
   "metadata": {},
   "outputs": [
    {
     "name": "stdout",
     "output_type": "stream",
     "text": [
      "(4, 6, 10, 14, 22)\n"
     ]
    }
   ],
   "source": [
    "tuple_36 = (2, 3, 5, 7, 11)\n",
    "ans = tuple(i*2 for i in tuple_36)\n",
    "print(ans)"
   ]
  },
  {
   "cell_type": "markdown",
   "id": "361aa2b2-ca41-413b-b782-4615637f9b62",
   "metadata": {},
   "source": [
    "37. Create a tuple of random numbers."
   ]
  },
  {
   "cell_type": "code",
   "execution_count": 43,
   "id": "dc55591e-1de0-4d96-8003-8245eabc1b72",
   "metadata": {},
   "outputs": [
    {
     "name": "stdout",
     "output_type": "stream",
     "text": [
      "(14, 33, 24, 12, 2, 18, 19, 9, 19)\n"
     ]
    }
   ],
   "source": [
    "import random\n",
    "\n",
    "random_tuple = tuple(random.randint(1, 50) for i in range(1, 10))\n",
    "\n",
    "print(random_tuple)"
   ]
  },
  {
   "cell_type": "markdown",
   "id": "660042a6-3c3e-4900-82f2-386c7696808d",
   "metadata": {},
   "source": [
    "38. Check if a tuple is sorted."
   ]
  },
  {
   "cell_type": "code",
   "execution_count": 46,
   "id": "258dd3d3-6764-483b-9197-386e088b2bb9",
   "metadata": {},
   "outputs": [
    {
     "name": "stdout",
     "output_type": "stream",
     "text": [
      "The tuple is not sorted\n"
     ]
    }
   ],
   "source": [
    "def check_sorted(tuple_38):\n",
    "    if tuple_38 == sorted(tuple_38):\n",
    "        print(\"The tuple is sorted\")\n",
    "    else:\n",
    "        print(\"The tuple is not sorted\")\n",
    "\n",
    "check_sorted((14, 33, 24, 12, 2, 18, 19, 9, 19))"
   ]
  },
  {
   "cell_type": "markdown",
   "id": "ed3faa8f-954d-480b-bf0c-b84aec3360cd",
   "metadata": {},
   "source": [
    "39. Rotate a tuple to the left by n positions."
   ]
  },
  {
   "cell_type": "code",
   "execution_count": 48,
   "id": "b59ce593-433f-42e1-92b8-b2062260447d",
   "metadata": {},
   "outputs": [
    {
     "data": {
      "text/plain": [
       "(4, 5, 1, 2, 3)"
      ]
     },
     "execution_count": 48,
     "metadata": {},
     "output_type": "execute_result"
    }
   ],
   "source": [
    "def rotate_tuple(tup, n):\n",
    "    n=n%len(tup)\n",
    "    rotated_tuple = tup[n:]+tup[:n]\n",
    "    return rotated_tuple\n",
    "\n",
    "rotate_tuple((1, 2, 3, 4, 5), 3)"
   ]
  },
  {
   "cell_type": "markdown",
   "id": "6b89aed2-1b43-478b-a127-0c52565ce48c",
   "metadata": {},
   "source": [
    "40. Rotate a tuple to the right by n positions."
   ]
  },
  {
   "cell_type": "code",
   "execution_count": 50,
   "id": "40ffaf18-2a9f-4156-adb9-e1e46f8bee1c",
   "metadata": {},
   "outputs": [
    {
     "data": {
      "text/plain": [
       "(3, 4, 5, 1, 2)"
      ]
     },
     "execution_count": 50,
     "metadata": {},
     "output_type": "execute_result"
    }
   ],
   "source": [
    "def rotate_tuple_opp(tup, n):\n",
    "    n=n%len(tup)\n",
    "    rotated_tuple_opp = tup[-n:]+tup[:-n]\n",
    "    return rotated_tuple_opp\n",
    "\n",
    "rotate_tuple_opp((1, 2, 3, 4, 5), 3)"
   ]
  },
  {
   "cell_type": "markdown",
   "id": "c0787cc8-afae-4779-b53c-a963d360e0c9",
   "metadata": {},
   "source": [
    "41. Create a tuple of the first 5 Fibonacci numbers."
   ]
  },
  {
   "cell_type": "code",
   "execution_count": 52,
   "id": "00190eac-14af-4dee-a8da-eb3a4688df20",
   "metadata": {},
   "outputs": [
    {
     "data": {
      "text/plain": [
       "(0, 1, 1, 2, 3)"
      ]
     },
     "execution_count": 52,
     "metadata": {},
     "output_type": "execute_result"
    }
   ],
   "source": [
    "def fib(n):\n",
    "    fibonacci = [0,1]\n",
    "    while len(fibonacci) < n:\n",
    "        next_number = fibonacci[-1] + fibonacci[-2]\n",
    "        fibonacci.append(next_number)\n",
    "    return tuple(fibonacci)\n",
    "\n",
    "fib(5)"
   ]
  },
  {
   "cell_type": "markdown",
   "id": "eaa57724-354f-4763-b49d-646e2aa273f7",
   "metadata": {},
   "source": [
    "42. Create a tuple from user input."
   ]
  },
  {
   "cell_type": "code",
   "execution_count": 53,
   "id": "fd67c188-fb2c-40a6-b758-627bb8f2a85f",
   "metadata": {},
   "outputs": [
    {
     "name": "stdin",
     "output_type": "stream",
     "text": [
      "Enter the ekemets separated by commas 5,6,9,8,7,k,l,d,g,h\n"
     ]
    },
    {
     "name": "stdout",
     "output_type": "stream",
     "text": [
      "('5', '6', '9', '8', '7', 'k', 'l', 'd', 'g', 'h')\n"
     ]
    }
   ],
   "source": [
    "input_str = input(\"Enter the ekemets separated by commas\")\n",
    "input_list = input_str.split(\",\")\n",
    "print(tuple(input_list))"
   ]
  },
  {
   "cell_type": "markdown",
   "id": "07b71c2f-b2b3-4a93-ae49-4e96ec48f8b4",
   "metadata": {},
   "source": [
    "43. Swap two elements in a tuple."
   ]
  },
  {
   "cell_type": "code",
   "execution_count": 71,
   "id": "54845609-db3d-4186-a125-a9077ad4f201",
   "metadata": {},
   "outputs": [
    {
     "data": {
      "text/plain": [
       "(1, 4, 3, 2, 5)"
      ]
     },
     "execution_count": 71,
     "metadata": {},
     "output_type": "execute_result"
    }
   ],
   "source": [
    "def swap_ind_tuple(tup, ind1, ind2):\n",
    "    lst=list(tup)\n",
    "    temp = lst[ind1]\n",
    "    lst[ind1] = lst[ind2]\n",
    "    lst[ind2] = temp\n",
    "    return tuple(lst)\n",
    "\n",
    "swap_ind_tuple((1, 2, 3, 4, 5), 1, 3)"
   ]
  },
  {
   "cell_type": "markdown",
   "id": "1edd6f88-c9a7-4ddd-ae3f-87540a5c2288",
   "metadata": {},
   "source": [
    "44. Reverse the elements of a tuple."
   ]
  },
  {
   "cell_type": "code",
   "execution_count": 54,
   "id": "24e54ad7-e6a9-48c0-af3b-0d15b82b068d",
   "metadata": {},
   "outputs": [
    {
     "name": "stdout",
     "output_type": "stream",
     "text": [
      "(3, 2, 1, 1, 0)\n"
     ]
    }
   ],
   "source": [
    "my_tuple = (0, 1, 1, 2, 3)\n",
    "reversed_tuple = my_tuple[::-1]\n",
    "print(reversed_tuple)"
   ]
  },
  {
   "cell_type": "markdown",
   "id": "3eab7caf-0b65-453e-a857-10132ae08b6d",
   "metadata": {},
   "source": [
    "45. Create a tuple of the first n powers of 2."
   ]
  },
  {
   "cell_type": "code",
   "execution_count": 57,
   "id": "366f00ed-d184-4b41-961e-8d46ced4450a",
   "metadata": {},
   "outputs": [
    {
     "data": {
      "text/plain": [
       "(1, 2, 4, 8, 16)"
      ]
     },
     "execution_count": 57,
     "metadata": {},
     "output_type": "execute_result"
    }
   ],
   "source": [
    "def powers_of_2(n):\n",
    "    empty=[]\n",
    "    for i in range(n):\n",
    "        a=2**i\n",
    "        empty.append(a)\n",
    "    return tuple(empty)\n",
    "\n",
    "powers_of_2(5)"
   ]
  },
  {
   "cell_type": "markdown",
   "id": "476977a5-c2dc-4628-9d22-39a74643ca6b",
   "metadata": {},
   "source": [
    "46. Find the longest string in a tuple of strings."
   ]
  },
  {
   "cell_type": "code",
   "execution_count": 58,
   "id": "77b3d6d6-7113-49b9-9f70-cde8e70d543e",
   "metadata": {},
   "outputs": [
    {
     "data": {
      "text/plain": [
       "'watermelon'"
      ]
     },
     "execution_count": 58,
     "metadata": {},
     "output_type": "execute_result"
    }
   ],
   "source": [
    "string_tuple = (\"apple\", \"banana\", \"grape\", \"kiwi\", \"watermelon\")\n",
    "max(string_tuple)"
   ]
  },
  {
   "cell_type": "markdown",
   "id": "c7ccbbae-ee07-4e5f-874d-112b0618d339",
   "metadata": {},
   "source": [
    "47. Find the shortest string in a tuple of strings."
   ]
  },
  {
   "cell_type": "code",
   "execution_count": 61,
   "id": "26587fd8-d1ed-4a11-b5d4-51d566007310",
   "metadata": {},
   "outputs": [
    {
     "data": {
      "text/plain": [
       "'kiwi'"
      ]
     },
     "execution_count": 61,
     "metadata": {},
     "output_type": "execute_result"
    }
   ],
   "source": [
    "string_tuple = (\"apple\", \"banana\", \"grape\", \"kiwi\", \"watermelon\")\n",
    "min(string_tuple, key=len)"
   ]
  },
  {
   "cell_type": "markdown",
   "id": "5c848dc4-cc2a-4bcc-ba46-c2040d46e8c9",
   "metadata": {},
   "source": [
    "48. Create a tuple of the first n triangular numbers."
   ]
  },
  {
   "cell_type": "code",
   "execution_count": 62,
   "id": "df23e369-923f-49c0-8ca8-487639d05059",
   "metadata": {},
   "outputs": [
    {
     "data": {
      "text/plain": [
       "(1, 3, 6, 10)"
      ]
     },
     "execution_count": 62,
     "metadata": {},
     "output_type": "execute_result"
    }
   ],
   "source": [
    "def tringular(t):\n",
    "    triangular_numbers = tuple((n)*(n+1)//2 for n in range(1,t))\n",
    "    return triangular_numbers\n",
    "tringular(5)"
   ]
  },
  {
   "cell_type": "markdown",
   "id": "ac13bb8f-33a1-41a6-aaca-77abe7c13f75",
   "metadata": {},
   "source": [
    "49. Check if a tuple contains another tuple as a subsequence."
   ]
  },
  {
   "cell_type": "code",
   "execution_count": 67,
   "id": "b21e3011-c5bd-46f7-9117-4f9b9b33055a",
   "metadata": {},
   "outputs": [
    {
     "data": {
      "text/plain": [
       "True"
      ]
     },
     "execution_count": 67,
     "metadata": {},
     "output_type": "execute_result"
    }
   ],
   "source": [
    "def subseq(main_tuple, sub_tuple):\n",
    "    sub_length = len(sub_tuple)\n",
    "    for i in range(len(main_tuple)-sub_length + 1):\n",
    "        if main_tuple[i:i+sub_length] == sub_tuple:\n",
    "            return True\n",
    "    return False\n",
    "\n",
    "subseq((1, 2, 3, 4, 5, 6, 7, 8, 9), (3, 4, 5))"
   ]
  },
  {
   "cell_type": "markdown",
   "id": "1f94a7af-491a-49de-8001-519c978b0d2b",
   "metadata": {},
   "source": [
    "50. Create a tuple of alternating 1s and 0s of length n."
   ]
  },
  {
   "cell_type": "code",
   "execution_count": 68,
   "id": "44f70ffa-0c67-4871-80dd-208ddf1dc3fc",
   "metadata": {},
   "outputs": [
    {
     "data": {
      "text/plain": [
       "(0, 1, 0, 1, 0, 1, 0, 1, 0)"
      ]
     },
     "execution_count": 68,
     "metadata": {},
     "output_type": "execute_result"
    }
   ],
   "source": [
    "def alt_01(n):\n",
    "    empty_list = []\n",
    "    for i in range(n):\n",
    "        a=i%2\n",
    "        empty_list.append(a)\n",
    "    return tuple(empty_list)\n",
    "\n",
    "alt_01(9)"
   ]
  },
  {
   "cell_type": "markdown",
   "id": "d64759ed-7925-4a83-8bad-19ab3e3fc766",
   "metadata": {},
   "source": [
    "Set Based Practice Problem :"
   ]
  },
  {
   "cell_type": "markdown",
   "id": "3612ea1f-26f3-4768-9b0d-546c48a3e54f",
   "metadata": {},
   "source": [
    "1. Create a set with integers from 1 to 5."
   ]
  },
  {
   "cell_type": "code",
   "execution_count": 34,
   "id": "6fad9694-002c-430c-b88e-c3ff39331db9",
   "metadata": {},
   "outputs": [
    {
     "name": "stdout",
     "output_type": "stream",
     "text": [
      "{1, 2, 3, 4, 5}\n"
     ]
    }
   ],
   "source": [
    "my_set={1,2,3,4,5}\n",
    "print(my_set)"
   ]
  },
  {
   "cell_type": "markdown",
   "id": "39687872-a250-40a0-8e2d-7f0c7eb4c8f8",
   "metadata": {},
   "source": [
    "2. Add an element to a set."
   ]
  },
  {
   "cell_type": "code",
   "execution_count": 37,
   "id": "149721c5-0e9e-4700-b695-c3414afe4bf8",
   "metadata": {},
   "outputs": [
    {
     "name": "stdout",
     "output_type": "stream",
     "text": [
      "{1, 2, 3, 4, 5, 6}\n"
     ]
    }
   ],
   "source": [
    "my_set={1,2,3,4,5}\n",
    "my_set.add(6)\n",
    "print(my_set)"
   ]
  },
  {
   "cell_type": "markdown",
   "id": "f606b137-306c-4333-8256-2cf7329da12b",
   "metadata": {},
   "source": [
    "3. Remove an element from a set."
   ]
  },
  {
   "cell_type": "code",
   "execution_count": null,
   "id": "ec905c36-7a59-432a-8360-90a309fecd52",
   "metadata": {},
   "outputs": [],
   "source": [
    "my_set={1,2,3,4,5}\n",
    "my_set.remove(3)\n",
    "print(my_set)"
   ]
  },
  {
   "cell_type": "markdown",
   "id": "9c0bce89-e042-42eb-90c7-52743ef36e5b",
   "metadata": {},
   "source": [
    "4. Check if an element exists in a set."
   ]
  },
  {
   "cell_type": "code",
   "execution_count": 74,
   "id": "b3cb1141-ae81-4d6d-8b86-4a0e1d5eaa44",
   "metadata": {},
   "outputs": [
    {
     "name": "stdout",
     "output_type": "stream",
     "text": [
      "Element is present\n"
     ]
    }
   ],
   "source": [
    "my_set={1,2,3,4,5}\n",
    "if 3 in my_set:\n",
    "    print(\"Element is present\")\n",
    "else:\n",
    "    print(\"Element is not present\")"
   ]
  },
  {
   "cell_type": "markdown",
   "id": "a02938e4-bb0c-4d98-9e57-cb1878de7eb5",
   "metadata": {},
   "source": [
    "5. Find the length of a set without using the `len()` function."
   ]
  },
  {
   "cell_type": "code",
   "execution_count": 75,
   "id": "e2b95047-c6bf-4f14-a868-64bed27f4829",
   "metadata": {},
   "outputs": [
    {
     "name": "stdout",
     "output_type": "stream",
     "text": [
      "5\n"
     ]
    }
   ],
   "source": [
    "my_set={1,2,3,4,5}\n",
    "count=0\n",
    "for i in my_set:\n",
    "    count = count+1\n",
    "print(count)"
   ]
  },
  {
   "cell_type": "markdown",
   "id": "1e7dae47-b25d-47f0-b27b-846178b23156",
   "metadata": {},
   "source": [
    "6. Clear all elements from a set."
   ]
  },
  {
   "cell_type": "code",
   "execution_count": null,
   "id": "a90b506a-e62f-4615-8966-c432f980bb77",
   "metadata": {},
   "outputs": [],
   "source": [
    "my_set={1,2,3,4,5}\n",
    "my_set.clear()\n",
    "print(my_set)"
   ]
  },
  {
   "cell_type": "markdown",
   "id": "4fd743ce-d1ba-4923-97b4-12e2c1f706a7",
   "metadata": {},
   "source": [
    "7. Create a set of even numbers from 1 to 10."
   ]
  },
  {
   "cell_type": "code",
   "execution_count": 82,
   "id": "661a68a1-fbde-4f95-96ac-55426bb81849",
   "metadata": {},
   "outputs": [
    {
     "name": "stdout",
     "output_type": "stream",
     "text": [
      "{2, 4, 6, 8, 10}\n"
     ]
    }
   ],
   "source": [
    "empty_set=set()\n",
    "for i in range(1,11):\n",
    "    if i%2 == 0:\n",
    "        empty_set.add(i)\n",
    "\n",
    "print(empty_set)"
   ]
  },
  {
   "cell_type": "markdown",
   "id": "312997f3-2055-4f17-819c-58bcbcda4764",
   "metadata": {},
   "source": [
    "8. Create a set of odd numbers from 1 to 10."
   ]
  },
  {
   "cell_type": "code",
   "execution_count": 83,
   "id": "37e2a58d-57c7-4742-b1f4-f208f33a9886",
   "metadata": {},
   "outputs": [
    {
     "name": "stdout",
     "output_type": "stream",
     "text": [
      "{1, 3, 5, 7, 9}\n"
     ]
    }
   ],
   "source": [
    "empty_set=set()\n",
    "for i in range(1,11):\n",
    "    if i%2 != 0:\n",
    "        empty_set.add(i)\n",
    "\n",
    "print(empty_set)"
   ]
  },
  {
   "cell_type": "markdown",
   "id": "649cdf9a-cdcb-4321-b9ee-c8250881777f",
   "metadata": {},
   "source": [
    "9. Find the union of two sets."
   ]
  },
  {
   "cell_type": "code",
   "execution_count": null,
   "id": "47698d1c-bf6c-417d-a8fd-35a04234cd16",
   "metadata": {},
   "outputs": [],
   "source": [
    "my_set1={1,2,3,4}\n",
    "my_set2={6,7,8,9}\n",
    "union_set=my_set1.union(my_set2)\n",
    "print(union_set)"
   ]
  },
  {
   "cell_type": "markdown",
   "id": "e37bc2d3-0612-4512-b243-26f8984825db",
   "metadata": {},
   "source": [
    "10. Find the intersection of two sets."
   ]
  },
  {
   "cell_type": "code",
   "execution_count": null,
   "id": "3e326984-e1ae-4b18-b719-867ea530fda8",
   "metadata": {},
   "outputs": [],
   "source": [
    "my_set1={1,2,3,4,5}\n",
    "my_set2={5,6,7,8,9}\n",
    "union_set=my_set1.intersection(my_set2)\n",
    "print(union_set)"
   ]
  },
  {
   "cell_type": "markdown",
   "id": "a0f49ab7-d7a0-4c1f-8d43-9cb01330c9d4",
   "metadata": {},
   "source": [
    "11. Find the difference between two sets."
   ]
  },
  {
   "cell_type": "code",
   "execution_count": null,
   "id": "5147d503-a789-4114-b001-c8081b63b43e",
   "metadata": {},
   "outputs": [],
   "source": [
    "my_set1={1,2,3,4,5}\n",
    "my_set2={5,6,7,8,9}\n",
    "union_set=my_set1.difference(my_set2)\n",
    "print(union_set)"
   ]
  },
  {
   "cell_type": "markdown",
   "id": "4195740d-6ef4-4bf5-9d32-917ef9992648",
   "metadata": {},
   "source": [
    "12. Check if a set is a subset of another set."
   ]
  },
  {
   "cell_type": "code",
   "execution_count": null,
   "id": "f8929122-9b1a-440b-bb7c-bc6e6fce181b",
   "metadata": {},
   "outputs": [],
   "source": [
    "set1={7,8}\n",
    "set2={5,6,7,8,9}\n",
    "is_subset=set1.issubset(set2)\n",
    "print(\"Is set1 a subset of set2:\", is_subset)"
   ]
  },
  {
   "cell_type": "markdown",
   "id": "0ffe48c2-cf4b-40d6-bbc2-f282e023f49e",
   "metadata": {},
   "source": [
    "13. Check if a set is a superset of another set."
   ]
  },
  {
   "cell_type": "code",
   "execution_count": null,
   "id": "f9be5773-422f-40fc-a5b2-85000477e7e2",
   "metadata": {},
   "outputs": [],
   "source": [
    "set1={7,8,9,10}\n",
    "set2={5,6,7,8,9}\n",
    "is_superset=set2.issuperset(set1)\n",
    "print(\"Is set2 a superset of set1:\", is_superset)"
   ]
  },
  {
   "cell_type": "markdown",
   "id": "7937b46d-e012-4c23-8f54-aab747c70510",
   "metadata": {},
   "source": [
    "14. Create a set from a list."
   ]
  },
  {
   "cell_type": "code",
   "execution_count": 38,
   "id": "ab87e953-5aa2-4f60-967c-55f43301ecb3",
   "metadata": {},
   "outputs": [
    {
     "name": "stdout",
     "output_type": "stream",
     "text": [
      "{1, 2, 4, 6, 8, 9}\n"
     ]
    }
   ],
   "source": [
    "my_list=[1,2,6,4,8,9,6,9,6,9,]\n",
    "my_set=set(my_list)\n",
    "print(my_set)"
   ]
  },
  {
   "cell_type": "markdown",
   "id": "5ae24452-9329-4439-a5b0-979a6c242151",
   "metadata": {},
   "source": [
    "15. Convert a set to a list."
   ]
  },
  {
   "cell_type": "code",
   "execution_count": 39,
   "id": "3fa90fec-f0a0-41e7-a1b6-56e1f0cb125d",
   "metadata": {},
   "outputs": [
    {
     "name": "stdout",
     "output_type": "stream",
     "text": [
      "[1, 2, 3, 5, 6, 7, 9]\n"
     ]
    }
   ],
   "source": [
    "my_set={1,2,3,5,6,9,7}\n",
    "my_list=list(my_set)\n",
    "print(my_list)"
   ]
  },
  {
   "cell_type": "markdown",
   "id": "80041b83-d331-414b-a8c3-562f86d73da1",
   "metadata": {},
   "source": [
    "16. Remove a random element from a set."
   ]
  },
  {
   "cell_type": "code",
   "execution_count": 87,
   "id": "c9cffd81-20fe-4d5e-b213-be526c2552b0",
   "metadata": {},
   "outputs": [
    {
     "name": "stdout",
     "output_type": "stream",
     "text": [
      "{1, 2, 3, 6, 7, 9}\n"
     ]
    }
   ],
   "source": [
    "import random\n",
    "my_set={1,2,3,5,6,9,7}\n",
    "random_element = random.choice(list(my_set))\n",
    "my_set.remove(random_element)\n",
    "print(my_set)"
   ]
  },
  {
   "cell_type": "markdown",
   "id": "1070c4f1-2418-427d-9710-0e1dc52af50f",
   "metadata": {},
   "source": [
    "17. Pop an element from a set."
   ]
  },
  {
   "cell_type": "code",
   "execution_count": 88,
   "id": "1f671317-155b-4fb4-81cd-319d32dbc975",
   "metadata": {},
   "outputs": [
    {
     "name": "stdout",
     "output_type": "stream",
     "text": [
      "{2, 3, 5, 6, 7, 9}\n"
     ]
    }
   ],
   "source": [
    "my_set={1,2,3,5,6,9,7}\n",
    "my_set.pop()\n",
    "print(my_set)"
   ]
  },
  {
   "cell_type": "markdown",
   "id": "38628d84-a287-4683-a8ba-5877785823c7",
   "metadata": {},
   "source": [
    "18. Check if two sets have no elements in common."
   ]
  },
  {
   "cell_type": "code",
   "execution_count": 94,
   "id": "cf304853-1b38-4ffd-8c6e-b4362fbdf04a",
   "metadata": {},
   "outputs": [
    {
     "name": "stdout",
     "output_type": "stream",
     "text": [
      "Set doesn't have a common element\n"
     ]
    }
   ],
   "source": [
    "set1 = {1, 2, 3, 4}\n",
    "set2 = {5, 6, 7, 8}\n",
    "\n",
    "common_element = set1.intersection(set2)\n",
    "\n",
    "if not common_element:\n",
    "    print(\"Set doesn't have a common element\")\n",
    "else:\n",
    "    print(\"Set has a common element\", common_element)"
   ]
  },
  {
   "cell_type": "markdown",
   "id": "4a74e3eb-28c3-431f-ac01-46a0eb449832",
   "metadata": {},
   "source": [
    "19. Find the symmetric difference between two sets."
   ]
  },
  {
   "cell_type": "code",
   "execution_count": 95,
   "id": "b77647d2-01ab-44f1-8037-1895e95ed555",
   "metadata": {},
   "outputs": [
    {
     "name": "stdout",
     "output_type": "stream",
     "text": [
      "{1, 2, 3, 6, 7, 8}\n"
     ]
    }
   ],
   "source": [
    "set1 = {1, 2, 3, 4, 5}\n",
    "set2 = {4, 5, 6, 7, 8}\n",
    "\n",
    "symmetric_difference = set1^set2\n",
    "print(symmetric_difference)"
   ]
  },
  {
   "cell_type": "markdown",
   "id": "21d3de00-239f-4307-b466-0b83bb75513f",
   "metadata": {},
   "source": [
    "20. Update a set with elements from another set."
   ]
  },
  {
   "cell_type": "code",
   "execution_count": 97,
   "id": "6648f355-5375-4128-8e10-f95657ac27aa",
   "metadata": {},
   "outputs": [
    {
     "name": "stdout",
     "output_type": "stream",
     "text": [
      "{1, 2, 3, 4, 5, 6, 7, 8}\n"
     ]
    }
   ],
   "source": [
    "set1 = {1, 2, 3, 4, 5}\n",
    "set2 = {4, 5, 6, 7, 8}\n",
    "set1.update(set2)\n",
    "print(set1)"
   ]
  },
  {
   "cell_type": "markdown",
   "id": "e31c0f66-e36b-4c99-af22-58be4a2a1361",
   "metadata": {},
   "source": [
    "21. Create a set of the first 5 prime numbers."
   ]
  },
  {
   "cell_type": "code",
   "execution_count": 99,
   "id": "a44c8a14-44d6-44e3-8378-72a143a73ba3",
   "metadata": {},
   "outputs": [
    {
     "name": "stdout",
     "output_type": "stream",
     "text": [
      "{2, 3, 5, 7, 11}\n"
     ]
    }
   ],
   "source": [
    "prime_set = set()\n",
    "num = 2\n",
    "while len(prime_set) < 5:\n",
    "    if is_prime(num):\n",
    "        prime_set.add(num)\n",
    "    num += 1\n",
    "\n",
    "print(prime_set)"
   ]
  },
  {
   "cell_type": "markdown",
   "id": "4da9b7cd-74e6-4dfb-8d41-319eb23ab592",
   "metadata": {},
   "source": [
    "22. Check if two sets are identical."
   ]
  },
  {
   "cell_type": "code",
   "execution_count": 100,
   "id": "e36c410e-15db-4874-bd21-0e8ceea4ff9b",
   "metadata": {},
   "outputs": [
    {
     "name": "stdout",
     "output_type": "stream",
     "text": [
      "Identical\n"
     ]
    }
   ],
   "source": [
    "set1 = {1, 2, 3, 4, 5}\n",
    "set2 = {3, 1, 5, 2, 4}\n",
    "if set1 == set2:\n",
    "    print(\"Identical\")\n",
    "else: \n",
    "    print(\"Unidentical\")"
   ]
  },
  {
   "cell_type": "markdown",
   "id": "f1443ef8-3898-4f62-837d-124b90fd415d",
   "metadata": {},
   "source": [
    "23. Create a frozen set."
   ]
  },
  {
   "cell_type": "code",
   "execution_count": 101,
   "id": "3342ca12-7fa1-442f-b8e0-356e309811fe",
   "metadata": {},
   "outputs": [
    {
     "data": {
      "text/plain": [
       "frozenset({1, 2, 3, 4, 5})"
      ]
     },
     "execution_count": 101,
     "metadata": {},
     "output_type": "execute_result"
    }
   ],
   "source": [
    "elements = [1, 2, 3, 4, 5]\n",
    "\n",
    "fset = frozenset(elements)\n",
    "fset"
   ]
  },
  {
   "cell_type": "markdown",
   "id": "a3f4f362-c970-4401-b91a-18d7b17faf9f",
   "metadata": {},
   "source": [
    "24. Check if a set is disjoint with another set."
   ]
  },
  {
   "cell_type": "code",
   "execution_count": 1,
   "id": "97dc3b44-4864-4545-a823-d18d15ed16d3",
   "metadata": {},
   "outputs": [
    {
     "name": "stdout",
     "output_type": "stream",
     "text": [
      "Are the sets disjoint: True\n"
     ]
    }
   ],
   "source": [
    "set1 = {1, 2, 3, 4}\n",
    "set2 = {5, 6, 7, 8}\n",
    "status = set1.isdisjoint(set2)\n",
    "print(\"Are the sets disjoint:\", status)"
   ]
  },
  {
   "cell_type": "markdown",
   "id": "95ceb0ce-81c7-4c0a-8e0b-d5239c3ddfb7",
   "metadata": {},
   "source": [
    "25. Create a set of squares of numbers from 1 to 5."
   ]
  },
  {
   "cell_type": "code",
   "execution_count": 3,
   "id": "7bc43f98-5d0a-4ebb-a165-ee78b8382028",
   "metadata": {},
   "outputs": [
    {
     "data": {
      "text/plain": [
       "{1, 4, 9, 16, 25}"
      ]
     },
     "execution_count": 3,
     "metadata": {},
     "output_type": "execute_result"
    }
   ],
   "source": [
    "def sqr_set(n):\n",
    "    square_set = set()\n",
    "    for i in range(1,n+1):\n",
    "        sqr = i**2\n",
    "        square_set.add(sqr)\n",
    "    return square_set\n",
    "\n",
    "sqr_set(5)"
   ]
  },
  {
   "cell_type": "markdown",
   "id": "82c4aca6-56b3-4e76-a0ea-86d242ab2fb4",
   "metadata": {},
   "source": [
    "26. Filter out all even numbers from a set."
   ]
  },
  {
   "cell_type": "code",
   "execution_count": 4,
   "id": "33704880-3770-4a08-893e-e07c699c201b",
   "metadata": {},
   "outputs": [
    {
     "name": "stdout",
     "output_type": "stream",
     "text": [
      "{16, 4}\n"
     ]
    }
   ],
   "source": [
    "original_set = {1, 4, 9, 16, 25}\n",
    "even_no_set = set()\n",
    "for i in original_set:\n",
    "    if i%2 == 0:\n",
    "        even_no_set.add(i)\n",
    "\n",
    "print(even_no_set)"
   ]
  },
  {
   "cell_type": "markdown",
   "id": "57abaf6e-bf40-4a43-9cc1-b41c5e94b0b8",
   "metadata": {},
   "source": [
    "27. Multiply all elements in a set by 2."
   ]
  },
  {
   "cell_type": "code",
   "execution_count": 5,
   "id": "13adff52-d373-44ef-8e8f-2a6020133774",
   "metadata": {},
   "outputs": [
    {
     "name": "stdout",
     "output_type": "stream",
     "text": [
      "{32, 2, 8, 18, 50}\n"
     ]
    }
   ],
   "source": [
    "original_set = {1, 4, 9, 16, 25}\n",
    "multiplied_set = set()\n",
    "for i in original_set:\n",
    "    num = i*2\n",
    "    multiplied_set.add(num)\n",
    "\n",
    "print(multiplied_set)"
   ]
  },
  {
   "cell_type": "markdown",
   "id": "43b9e605-8078-495f-b287-189d4010daad",
   "metadata": {},
   "source": [
    "28. Create a set of random numbers."
   ]
  },
  {
   "cell_type": "code",
   "execution_count": 6,
   "id": "8992c305-34c7-452a-8540-3d41301820a2",
   "metadata": {},
   "outputs": [
    {
     "name": "stdout",
     "output_type": "stream",
     "text": [
      "{22, 56, 90, 60, 61}\n"
     ]
    }
   ],
   "source": [
    "import random\n",
    "random_no = 5\n",
    "random_no_set = set()\n",
    "for i in range(random_no):\n",
    "    random_num = random.randint(1,100)\n",
    "    random_no_set.add(random_num)\n",
    "\n",
    "print(random_no_set)"
   ]
  },
  {
   "cell_type": "markdown",
   "id": "aa5718a5-545d-4baa-9615-b2204202378f",
   "metadata": {},
   "source": [
    "29. Check if a set is empty."
   ]
  },
  {
   "cell_type": "code",
   "execution_count": 8,
   "id": "06a20909-174e-4220-93da-7eefd3305bf6",
   "metadata": {},
   "outputs": [
    {
     "name": "stdout",
     "output_type": "stream",
     "text": [
      "The set is empty\n"
     ]
    }
   ],
   "source": [
    "my_set = set()\n",
    "if not my_set:\n",
    "    print(\"The set is empty\")\n",
    "else:\n",
    "    print(\"The set is not empty\")"
   ]
  },
  {
   "cell_type": "markdown",
   "id": "ccfad93e-507d-474d-a358-fefb057c3f75",
   "metadata": {},
   "source": [
    "30. Create a nested set (hint: use frozenset)."
   ]
  },
  {
   "cell_type": "code",
   "execution_count": 11,
   "id": "a7ebccde-cdc1-42ba-9f05-4a19fde40527",
   "metadata": {},
   "outputs": [
    {
     "name": "stdout",
     "output_type": "stream",
     "text": [
      "{frozenset({1, 2, 3, 4, 5}), frozenset({6, 7, 8, 9, 10})}\n"
     ]
    }
   ],
   "source": [
    "set1 = {1, 2, 3, 4, 5}\n",
    "set2 = {6, 7, 8, 9, 10}\n",
    "frozen_set1 = frozenset(set1)\n",
    "frozen_set2 = frozenset(set2)\n",
    "nested_set = {frozen_set1, frozen_set2}\n",
    "print(nested_set)"
   ]
  },
  {
   "cell_type": "markdown",
   "id": "89f2d834-3b33-4225-9109-717673357a52",
   "metadata": {},
   "source": [
    "31. Remove an element from a set using the discard method."
   ]
  },
  {
   "cell_type": "code",
   "execution_count": 13,
   "id": "fb547e15-7aed-4b5d-a36b-c3c98f186779",
   "metadata": {},
   "outputs": [
    {
     "name": "stdout",
     "output_type": "stream",
     "text": [
      "{1, 2, 3, 4}\n"
     ]
    }
   ],
   "source": [
    "initial_set = {1, 2, 3, 4, 5}\n",
    "initial_set.discard(5)\n",
    "print(initial_set)"
   ]
  },
  {
   "cell_type": "markdown",
   "id": "15684e82-1c51-48d3-b8db-4b83ea4a5acc",
   "metadata": {},
   "source": [
    "32. Compare two sets."
   ]
  },
  {
   "cell_type": "code",
   "execution_count": 2,
   "id": "4a81cac1-7368-4850-924d-dd6520b4f979",
   "metadata": {},
   "outputs": [
    {
     "name": "stdout",
     "output_type": "stream",
     "text": [
      "Set1 is subset of set2:  False\n",
      "Set1 is supersetset of set2:  False\n",
      "Set1 is intersection of set2:  {4, 5}\n",
      "Set1 is union of set2:  {1, 2, 3, 4, 5, 6, 7, 8}\n",
      "Elements in set1 but not in set2:  {1, 2, 3}\n",
      "Elements in set2 but not in set1  {8, 6, 7}\n"
     ]
    }
   ],
   "source": [
    "set1 = {1, 2, 3, 4, 5}\n",
    "set2 = {4, 5, 6, 7, 8}\n",
    "\n",
    "is_subset = set1.issubset(set2)\n",
    "\n",
    "is_superset = set1.issuperset(set2)\n",
    "\n",
    "intersection = set1.intersection(set2)\n",
    "\n",
    "union = set1.union(set2)\n",
    "\n",
    "difference1 = set1.difference(set2)\n",
    "difference2 = set2.difference(set1)\n",
    "\n",
    "print(\"Set1 is subset of set2: \", is_subset)\n",
    "print(\"Set1 is supersetset of set2: \", is_superset)\n",
    "print(\"Set1 is intersection of set2: \", intersection)\n",
    "print(\"Set1 is union of set2: \", union)\n",
    "print(\"Elements in set1 but not in set2: \", difference1)\n",
    "print(\"Elements in set2 but not in set1 \", difference2)"
   ]
  },
  {
   "cell_type": "markdown",
   "id": "83f39fc5-7e15-48cf-b933-63f251041f90",
   "metadata": {},
   "source": [
    "33. Create a set from a string."
   ]
  },
  {
   "cell_type": "code",
   "execution_count": 23,
   "id": "7df080f3-fd00-482f-8538-a3093ec1fac5",
   "metadata": {},
   "outputs": [
    {
     "name": "stdout",
     "output_type": "stream",
     "text": [
      "{'W', ' ', 'd', 'o', 'H', 'l', 'r', 'e'}\n"
     ]
    }
   ],
   "source": [
    "string = \"Hello World\"\n",
    "string_set = set(str)\n",
    "print(string_set)"
   ]
  },
  {
   "cell_type": "markdown",
   "id": "d05b1719-f6f7-4b6e-9889-9cb3dadb7ff2",
   "metadata": {},
   "source": [
    "34. Convert a set of strings to a set of integers."
   ]
  },
  {
   "cell_type": "code",
   "execution_count": 17,
   "id": "5ca0fd31-e27c-491c-8a96-69a96a1a97ee",
   "metadata": {},
   "outputs": [
    {
     "name": "stdout",
     "output_type": "stream",
     "text": [
      "{456, 123, 789}\n"
     ]
    }
   ],
   "source": [
    "string_set = {\"123\", \"456\", \"789\"}\n",
    "integer_set = set()\n",
    "for i in string_set:\n",
    "    integer_value = int(i)\n",
    "    integer_set.add(integer_value)\n",
    "print(integer_set)"
   ]
  },
  {
   "cell_type": "markdown",
   "id": "8f532d31-b2d3-4d09-bebd-04f50e3ba26b",
   "metadata": {},
   "source": [
    "35. Convert a set of integers to a set of strings."
   ]
  },
  {
   "cell_type": "code",
   "execution_count": 1,
   "id": "bbc16d69-81e1-4bce-aa56-fe29835fd944",
   "metadata": {},
   "outputs": [
    {
     "name": "stdout",
     "output_type": "stream",
     "text": [
      "{'789', '456', '123'}\n"
     ]
    }
   ],
   "source": [
    "integer_set = {123, 456, 789}\n",
    "string_set = set()\n",
    "for i in integer_set:\n",
    "    string_value =str(i)\n",
    "    string_set.add(string_value)\n",
    "print(string_set)\n"
   ]
  },
  {
   "cell_type": "markdown",
   "id": "9de8318c-c181-419a-9d86-1eb2fdf57fb8",
   "metadata": {},
   "source": [
    "36. Create a set from a tuple."
   ]
  },
  {
   "cell_type": "code",
   "execution_count": 2,
   "id": "e7d95ba0-243a-4f9f-83a5-0bd856cc9e6e",
   "metadata": {},
   "outputs": [
    {
     "name": "stdout",
     "output_type": "stream",
     "text": [
      "{1, 2, 3, 4, 5}\n"
     ]
    }
   ],
   "source": [
    "original_tuple = (1, 2, 3, 2, 4, 5, 1)\n",
    "my_set = set()\n",
    "for i in original_tuple:\n",
    "    my_set.add(i)\n",
    "print(my_set)"
   ]
  },
  {
   "cell_type": "markdown",
   "id": "c7212304-e1ec-4ba6-acb5-bd84de9bafc1",
   "metadata": {},
   "source": [
    "37. Convert a set to a tuple."
   ]
  },
  {
   "cell_type": "code",
   "execution_count": 3,
   "id": "12260c27-25ed-46dd-93a3-5a7c4ec648ac",
   "metadata": {},
   "outputs": [
    {
     "name": "stdout",
     "output_type": "stream",
     "text": [
      "(1, 2, 3, 4, 5)\n"
     ]
    }
   ],
   "source": [
    "my_set = {1, 2, 3, 4, 5}\n",
    "output_tuple = tuple(my_set)\n",
    "print(output_tuple)"
   ]
  },
  {
   "cell_type": "markdown",
   "id": "114b47f4-7783-45e4-9384-92f1dfa0500c",
   "metadata": {},
   "source": [
    "38. Find the maximum value in a set."
   ]
  },
  {
   "cell_type": "code",
   "execution_count": 5,
   "id": "fab239d4-5c85-4aa8-878d-92bf4fbcdc80",
   "metadata": {},
   "outputs": [
    {
     "data": {
      "text/plain": [
       "22"
      ]
     },
     "execution_count": 5,
     "metadata": {},
     "output_type": "execute_result"
    }
   ],
   "source": [
    "my_set = {15, 7, 22, 13, 8}\n",
    "max(my_set)"
   ]
  },
  {
   "cell_type": "markdown",
   "id": "988fe7bd-3c73-4e87-82dc-36c0bb39b04f",
   "metadata": {},
   "source": [
    "39. Find the minimum value in a set."
   ]
  },
  {
   "cell_type": "code",
   "execution_count": 6,
   "id": "86f8c9cf-0a38-4edf-a254-4fe2aa3b040b",
   "metadata": {},
   "outputs": [
    {
     "data": {
      "text/plain": [
       "7"
      ]
     },
     "execution_count": 6,
     "metadata": {},
     "output_type": "execute_result"
    }
   ],
   "source": [
    "my_set = {15, 7, 22, 13, 8}\n",
    "min(my_set)"
   ]
  },
  {
   "cell_type": "markdown",
   "id": "177fff4f-81ee-4413-9fd5-84eeeac9ba47",
   "metadata": {},
   "source": [
    "40. Create a set from user input."
   ]
  },
  {
   "cell_type": "code",
   "execution_count": 3,
   "id": "efa3bf56-117b-4fc7-9dd0-716bc7bf3820",
   "metadata": {},
   "outputs": [
    {
     "name": "stdout",
     "output_type": "stream",
     "text": [
      "Enter elements of the set(type 'done' when finish)\n"
     ]
    },
    {
     "name": "stdin",
     "output_type": "stream",
     "text": [
      "> Hello\n",
      "> How are you\n",
      "> done\n"
     ]
    },
    {
     "name": "stdout",
     "output_type": "stream",
     "text": [
      "{'Hello', 'How are you'}\n"
     ]
    }
   ],
   "source": [
    "user_set = set()\n",
    "print(\"Enter elements of the set(type 'done' when finish)\")\n",
    "while True:\n",
    "    user_input = input(\">\")\n",
    "    if user_input == \"done\":\n",
    "        break\n",
    "    user_set.add(user_input)\n",
    "\n",
    "print(user_set)\n"
   ]
  },
  {
   "cell_type": "markdown",
   "id": "ced15161-c579-46f0-94c4-6f2c26f3578e",
   "metadata": {},
   "source": [
    "41. Check if the intersection of two sets is empty."
   ]
  },
  {
   "cell_type": "code",
   "execution_count": 7,
   "id": "a1807248-95b9-4dbb-a945-d0918095faf1",
   "metadata": {},
   "outputs": [
    {
     "name": "stdout",
     "output_type": "stream",
     "text": [
      "The set is not empty\n"
     ]
    }
   ],
   "source": [
    "set1 = {1, 2, 3, 4, 5}\n",
    "set2 = {4, 5, 6, 7, 8}\n",
    "intersection = set1.intersection(set2)\n",
    "if not intersection:\n",
    "    print(\"The set is empty\")\n",
    "else:\n",
    "    print(\"The set is not empty\")"
   ]
  },
  {
   "cell_type": "markdown",
   "id": "6efd760d-73c3-4c04-a839-497d80a8a12e",
   "metadata": {},
   "source": [
    "42. Create a set of the first 5 Fibonacci numbers."
   ]
  },
  {
   "cell_type": "code",
   "execution_count": 12,
   "id": "38f55ec6-6740-41a3-b342-1945a248881f",
   "metadata": {},
   "outputs": [
    {
     "name": "stdout",
     "output_type": "stream",
     "text": [
      "{0, 1, 2, 3, 5}\n"
     ]
    }
   ],
   "source": [
    "fib_set = [0,1]\n",
    "count = 2\n",
    "while count <= 5:\n",
    "    new_num = fib_set[-1] + fib_set[-2]\n",
    "    fib_set.append(new_num)\n",
    "    count = count + 1\n",
    "\n",
    "print(set(fib_set))"
   ]
  },
  {
   "cell_type": "markdown",
   "id": "eae7a34b-736a-47c6-81a4-da475790871d",
   "metadata": {},
   "source": [
    "43. Remove duplicates from a list using sets."
   ]
  },
  {
   "cell_type": "code",
   "execution_count": 8,
   "id": "f1430db1-8032-4737-8726-ed1c7ebd7eb9",
   "metadata": {},
   "outputs": [
    {
     "name": "stdout",
     "output_type": "stream",
     "text": [
      "{2, 4, 6, 8, 10, 12, 14}\n"
     ]
    }
   ],
   "source": [
    "original_list = [2, 4, 6, 8, 4, 10, 6, 12, 14, 8]\n",
    "unique_set = set(original_list)\n",
    "print(unique_set)"
   ]
  },
  {
   "cell_type": "markdown",
   "id": "93d33345-7c6d-4c60-9857-a5d6ba2d76e0",
   "metadata": {},
   "source": [
    "44. Check if two sets have the same elements, regardless of their count."
   ]
  },
  {
   "cell_type": "code",
   "execution_count": 4,
   "id": "c6eb3ee0-f7a0-4131-8733-af65910950b1",
   "metadata": {},
   "outputs": [
    {
     "name": "stdout",
     "output_type": "stream",
     "text": [
      "They have same elements\n"
     ]
    }
   ],
   "source": [
    "def same_element(set1, set2):\n",
    "    sorted_list1 = sorted(list(set1))\n",
    "    sorted_list2 = sorted(list(set2))\n",
    "    if sorted_list1 == sorted_list2:\n",
    "        print(\"They have same elements\")\n",
    "    else:\n",
    "        print(\"They don't have same elements\")\n",
    "\n",
    "same_element({1, 2, 3, 2, 1}, {3, 1, 2})"
   ]
  },
  {
   "cell_type": "markdown",
   "id": "f5714685-5fc4-4240-b415-4d1747941d67",
   "metadata": {},
   "source": [
    "45. Create a set of the first n powers of 2."
   ]
  },
  {
   "cell_type": "code",
   "execution_count": 7,
   "id": "50c8ab95-30e1-4ef9-8f3f-3b0c2839ac23",
   "metadata": {},
   "outputs": [
    {
     "data": {
      "text/plain": [
       "{1, 2, 4, 8, 16}"
      ]
     },
     "execution_count": 7,
     "metadata": {},
     "output_type": "execute_result"
    }
   ],
   "source": [
    "def set_powers_of(n, t):\n",
    "    powers_of_2 = set()\n",
    "    for i in range(n):\n",
    "        power = t**i\n",
    "        powers_of_2.add(power)\n",
    "    return  powers_of_2\n",
    "\n",
    "set_powers_of(5, 2)"
   ]
  },
  {
   "cell_type": "markdown",
   "id": "31b24704-0aab-4cff-bd92-590975172580",
   "metadata": {},
   "source": [
    "46. Find the common elements between a set and a list."
   ]
  },
  {
   "cell_type": "code",
   "execution_count": 9,
   "id": "ea8234c8-daa9-4af8-a2ff-803f23bda8a2",
   "metadata": {},
   "outputs": [
    {
     "name": "stdout",
     "output_type": "stream",
     "text": [
      "[7, 9, 12]\n"
     ]
    }
   ],
   "source": [
    "my_set = {3, 7, 9, 12, 15}\n",
    "my_list = [7, 12, 5, 9]\n",
    "list_to_set = set(my_list)\n",
    "common_elements = []\n",
    "for i in my_set:\n",
    "    if i in list_to_set:\n",
    "        common_elements.append(i)\n",
    "print(common_elements)"
   ]
  },
  {
   "cell_type": "markdown",
   "id": "7d3e38f3-6378-4961-8691-bbeb3b856d10",
   "metadata": {},
   "source": [
    "47. Create a set of the first n triangular numbers."
   ]
  },
  {
   "cell_type": "code",
   "execution_count": 15,
   "id": "4ce46af3-6a32-40ce-9bbe-e95ad6fa666b",
   "metadata": {},
   "outputs": [
    {
     "data": {
      "text/plain": [
       "{1, 3, 6, 10, 15}"
      ]
     },
     "execution_count": 15,
     "metadata": {},
     "output_type": "execute_result"
    }
   ],
   "source": [
    "def set_tri_nos(n):\n",
    "    tri_set = set()\n",
    "    for i in range(1, n+1):\n",
    "        no = i*(i+1)//2\n",
    "        tri_set.add(no)\n",
    "    return tri_set\n",
    "\n",
    "set_tri_nos(5)"
   ]
  },
  {
   "cell_type": "markdown",
   "id": "c994c882-c246-4cb9-bbd3-08eff4e2f691",
   "metadata": {},
   "source": [
    "48. Check if a set contains another set as a subset."
   ]
  },
  {
   "cell_type": "code",
   "execution_count": 16,
   "id": "e8dbbc8c-73b4-4a35-ad45-ab23e62ad85f",
   "metadata": {},
   "outputs": [
    {
     "name": "stdout",
     "output_type": "stream",
     "text": [
      "Set1 is a subset of set2\n"
     ]
    }
   ],
   "source": [
    "set2 = {1, 2, 3, 4, 5}\n",
    "set1 = {3, 4}\n",
    "is_subset = set1.issubset(set2)\n",
    "if is_subset:\n",
    "    print(\"Set1 is a subset of set2\")\n",
    "else:\n",
    "    print(\"Set1 is not a subset of set2\")"
   ]
  },
  {
   "cell_type": "markdown",
   "id": "a2f78d4f-f39a-4389-a6a6-f9c0f5cd5b10",
   "metadata": {},
   "source": [
    "49. Create a set of alternating 1s and 0s of length n."
   ]
  },
  {
   "cell_type": "code",
   "execution_count": 17,
   "id": "72d9ed60-0345-4717-8b33-c1fdf1e123c3",
   "metadata": {},
   "outputs": [
    {
     "data": {
      "text/plain": [
       "{0, 1}"
      ]
     },
     "execution_count": 17,
     "metadata": {},
     "output_type": "execute_result"
    }
   ],
   "source": [
    "def alernating_set(n):\n",
    "    alternating_set = set()\n",
    "    for i in range(n):\n",
    "        if i%2 == 0:\n",
    "            alternating_set.add(1)\n",
    "        else:\n",
    "            alternating_set.add(0)\n",
    "\n",
    "    return alternating_set\n",
    "\n",
    "alernating_set(21)"
   ]
  },
  {
   "cell_type": "markdown",
   "id": "b502bca6-41c0-43ba-bb8a-9640880eb2fd",
   "metadata": {},
   "source": [
    "50. Merge multiple sets into one."
   ]
  },
  {
   "cell_type": "code",
   "execution_count": 18,
   "id": "7c5e9fe6-d8f7-4709-b25f-4c2a8a7dd827",
   "metadata": {},
   "outputs": [
    {
     "name": "stdout",
     "output_type": "stream",
     "text": [
      "{1, 2, 3, 4, 5, 6, 7}\n"
     ]
    }
   ],
   "source": [
    "set1 = {1, 2, 3}\n",
    "set2 = {3, 4, 5}\n",
    "set3 = {5, 6, 7}\n",
    "\n",
    "merged_set = set1.union(set2, set3)\n",
    "\n",
    "print(merged_set)"
   ]
  },
  {
   "cell_type": "code",
   "execution_count": null,
   "id": "ac53d5f4-b88f-4470-841a-e1bea51f05fc",
   "metadata": {},
   "outputs": [],
   "source": []
  }
 ],
 "metadata": {
  "kernelspec": {
   "display_name": "Python 3 (ipykernel)",
   "language": "python",
   "name": "python3"
  },
  "language_info": {
   "codemirror_mode": {
    "name": "ipython",
    "version": 3
   },
   "file_extension": ".py",
   "mimetype": "text/x-python",
   "name": "python",
   "nbconvert_exporter": "python",
   "pygments_lexer": "ipython3",
   "version": "3.12.1"
  }
 },
 "nbformat": 4,
 "nbformat_minor": 5
}
